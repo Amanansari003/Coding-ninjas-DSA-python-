{
 "cells": [
  {
   "cell_type": "markdown",
   "metadata": {},
   "source": [
    "### abstract class "
   ]
  },
  {
   "cell_type": "code",
   "execution_count": 10,
   "metadata": {},
   "outputs": [
    {
     "data": {
      "text/plain": [
       "3600"
      ]
     },
     "execution_count": 10,
     "metadata": {},
     "output_type": "execute_result"
    }
   ],
   "source": [
    "from abc import ABC,abstractmethod\n",
    "\n",
    "class Vehicle (ABC):\n",
    "\n",
    "    @abstractmethod\n",
    "    def get_value (self):\n",
    "        pass\n",
    "\n",
    "class Car(Vehicle):\n",
    "    def __init__(self,make,modle,fare) :\n",
    "        self.make = make \n",
    "        self.modle = modle \n",
    "        self.fare  = fare \n",
    "    def get_value(self):\n",
    "        return 90*self.fare \n",
    "obj = Car(\"Tesla\",2018,40) \n",
    "obj.get_value()"
   ]
  },
  {
   "cell_type": "code",
   "execution_count": 13,
   "metadata": {},
   "outputs": [
    {
     "data": {
      "text/plain": [
       "'/user/downlowads'"
      ]
     },
     "execution_count": 13,
     "metadata": {},
     "output_type": "execute_result"
    }
   ],
   "source": [
    "from abc import ABC,abstractmethod\n",
    "\n",
    "class TextReaderAbstract(ABC) :\n",
    "    def __init__ (self, path, filename):\n",
    "        self.path = path\n",
    "        self.filename = filename \n",
    "\n",
    "    @abstractmethod   # this is just an interface or rule \n",
    "    def get_path(self):\n",
    "        pass\n",
    "\n",
    "    @abstractmethod\n",
    "    def get_filename(self):\n",
    "        pass\n",
    "\n",
    "class TextReader(TextReaderAbstract) :    # no need to initialize the __init__ beause that is the abstract class no matter the class is inharite \n",
    "    def get_path(self):\n",
    "        return self.path\n",
    "    def get_filename(self):\n",
    "        return self.filename\n",
    "\n",
    "obj = TextReader(\"/user/downlowads\",\"sample.txt\")\n",
    "obj.get_filename()\n",
    "obj.get_path()"
   ]
  },
  {
   "cell_type": "code",
   "execution_count": 1,
   "metadata": {},
   "outputs": [
    {
     "data": {
      "text/plain": [
       "8.9"
      ]
     },
     "execution_count": 1,
     "metadata": {},
     "output_type": "execute_result"
    }
   ],
   "source": [
    "from abc import ABC,abstractmethod\n",
    "\n",
    "class Bank (ABC):\n",
    "    @abstractmethod\n",
    "    def get_interest(self):\n",
    "        return 80\n",
    "\n",
    "class HDFC(Bank):\n",
    "    def get_interest(self):\n",
    "        return 8.9      \n",
    "\n",
    "\n",
    "obj = HDFC()\n",
    "obj.get_interest()"
   ]
  },
  {
   "cell_type": "markdown",
   "metadata": {},
   "source": [
    "### error ( Exception handling )"
   ]
  },
  {
   "cell_type": "code",
   "execution_count": 22,
   "metadata": {},
   "outputs": [
    {
     "data": {
      "text/plain": [
       "1000"
      ]
     },
     "execution_count": 22,
     "metadata": {},
     "output_type": "execute_result"
    }
   ],
   "source": [
    "class Vehicle :\n",
    "    def __init__(self,make,model,fuel):\n",
    "        self.make = make \n",
    "        self.model = model \n",
    "        self.fuel = fuel \n",
    "    def get_value(self):\n",
    "\n",
    "        try :\n",
    "            age = 2022 - self.model \n",
    "            return 1000*(1/age)\n",
    "\n",
    "        except TypeError :\n",
    "            age = 2022-int(self.model)\n",
    "            return 1000*(1/age)\n",
    "        except ZeroDivisionError:\n",
    "            age = 2022 - int(self.model)\n",
    "            return 1000*(1)\n",
    "\n",
    "myobj = Vehicle(\"Tesla\",2022,\"electric\")  # will not throe error\n",
    "myobj.get_value()"
   ]
  },
  {
   "cell_type": "markdown",
   "metadata": {},
   "source": [
    "### multiple exception handling \n",
    "nested exception handling  "
   ]
  },
  {
   "cell_type": "code",
   "execution_count": 25,
   "metadata": {},
   "outputs": [
    {
     "data": {
      "text/plain": [
       "1000"
      ]
     },
     "execution_count": 25,
     "metadata": {},
     "output_type": "execute_result"
    }
   ],
   "source": [
    "class Vehicle :\n",
    "    def __init__(self,make,model,fuel):\n",
    "        self.make = make \n",
    "        self.model = model \n",
    "        self.fuel = fuel \n",
    "    def get_value(self):\n",
    "\n",
    "        try :\n",
    "            age = 2022 - self.model \n",
    "            return 1000*(1/age)\n",
    "\n",
    "        except TypeError :\n",
    "            try:\n",
    "                age = 2022-int(self.model)\n",
    "                return 1000*(1/age)\n",
    "            except ZeroDivisionError:\n",
    "                age = 2022 - int(self.model)\n",
    "                return 1000*(1)\n",
    "        except ZeroDivisionError:\n",
    "            age = 2022 - int(self.model)\n",
    "            return 1000*(1)\n",
    "\n",
    "myobj = Vehicle(\"Tesla\",2022,\"electric\")  # will not throe error\n",
    "myobj.get_value()"
   ]
  },
  {
   "cell_type": "markdown",
   "metadata": {},
   "source": [
    "invalid literal for int() with the base 10"
   ]
  },
  {
   "cell_type": "code",
   "execution_count": 27,
   "metadata": {},
   "outputs": [
    {
     "data": {
      "text/plain": [
       "'you have enterd model in incorrect formate'"
      ]
     },
     "execution_count": 27,
     "metadata": {},
     "output_type": "execute_result"
    }
   ],
   "source": [
    "class Vehicle :\n",
    "    def __init__(self,make,model,fuel):\n",
    "        self.make = make \n",
    "        self.model = model \n",
    "        self.fuel = fuel \n",
    "    def get_value(self):\n",
    "\n",
    "        try :\n",
    "            age = 2022 - self.model \n",
    "            return 1000*(1/age)\n",
    "\n",
    "        except TypeError :\n",
    "            try:\n",
    "                age = 2022-int(self.model)\n",
    "                return 1000*(1/age)\n",
    "            except ZeroDivisionError:\n",
    "                age = 2022 - int(self.model)\n",
    "                return 1000*(1)\n",
    "            except :\n",
    "                return \"you have enterd model in incorrect formate\"\n",
    "        except ZeroDivisionError:\n",
    "            age = 2022 - int(self.model)\n",
    "            return 1000*(1)\n",
    "\n",
    "\n",
    "myobj = Vehicle(\"Tesla\",'a',\"electric\")  # will not throe error\n",
    "myobj.get_value()"
   ]
  },
  {
   "cell_type": "markdown",
   "metadata": {},
   "source": [
    "### raise custom error"
   ]
  },
  {
   "cell_type": "code",
   "execution_count": 32,
   "metadata": {},
   "outputs": [],
   "source": [
    "class NegativeValue (Exception):\n",
    "    def __init__(self, value,message = 'Car values cant be negative'):\n",
    "        self.value = value \n",
    "        self.message = message \n",
    "        super ().__init__(self.message)\n",
    "    def __str__(self):\n",
    "        return f'{self.message} ---> {self.value}'\n",
    "    \n",
    "a =-1\n",
    "if a <0 :\n",
    "    raise NegativeValue(a)\n"
   ]
  },
  {
   "cell_type": "code",
   "execution_count": 2,
   "metadata": {},
   "outputs": [
    {
     "ename": "NegativeValue",
     "evalue": "Car values cant be negative ---> -2",
     "output_type": "error",
     "traceback": [
      "\u001b[1;31m---------------------------------------------------------------------------\u001b[0m",
      "\u001b[1;31mNegativeValue\u001b[0m                             Traceback (most recent call last)",
      "\u001b[1;32m~\\AppData\\Local\\Temp/ipykernel_13128/3120571708.py\u001b[0m in \u001b[0;36m<module>\u001b[1;34m\u001b[0m\n\u001b[0;32m     26\u001b[0m \u001b[1;33m\u001b[0m\u001b[0m\n\u001b[0;32m     27\u001b[0m \u001b[0mmyobj\u001b[0m \u001b[1;33m=\u001b[0m \u001b[0mVehicle\u001b[0m\u001b[1;33m(\u001b[0m\u001b[1;34m\"tesla\"\u001b[0m\u001b[1;33m,\u001b[0m\u001b[1;36m2024\u001b[0m\u001b[1;33m,\u001b[0m\u001b[1;34m\"electric\"\u001b[0m\u001b[1;33m)\u001b[0m\u001b[1;33m\u001b[0m\u001b[1;33m\u001b[0m\u001b[0m\n\u001b[1;32m---> 28\u001b[1;33m \u001b[0mmyobj\u001b[0m\u001b[1;33m.\u001b[0m\u001b[0mget_value\u001b[0m\u001b[1;33m(\u001b[0m\u001b[1;33m)\u001b[0m\u001b[1;33m\u001b[0m\u001b[1;33m\u001b[0m\u001b[0m\n\u001b[0m",
      "\u001b[1;32m~\\AppData\\Local\\Temp/ipykernel_13128/3120571708.py\u001b[0m in \u001b[0;36mget_value\u001b[1;34m(self)\u001b[0m\n\u001b[0;32m     21\u001b[0m \u001b[1;33m\u001b[0m\u001b[0m\n\u001b[0;32m     22\u001b[0m         \u001b[1;32mif\u001b[0m \u001b[0mage\u001b[0m \u001b[1;33m<\u001b[0m \u001b[1;36m0\u001b[0m \u001b[1;33m:\u001b[0m\u001b[1;33m\u001b[0m\u001b[1;33m\u001b[0m\u001b[0m\n\u001b[1;32m---> 23\u001b[1;33m             \u001b[1;32mraise\u001b[0m \u001b[0mNegativeValue\u001b[0m\u001b[1;33m(\u001b[0m\u001b[0mage\u001b[0m\u001b[1;33m)\u001b[0m\u001b[1;33m\u001b[0m\u001b[1;33m\u001b[0m\u001b[0m\n\u001b[0m\u001b[0;32m     24\u001b[0m         \u001b[1;32melse\u001b[0m \u001b[1;33m:\u001b[0m\u001b[1;33m\u001b[0m\u001b[1;33m\u001b[0m\u001b[0m\n\u001b[0;32m     25\u001b[0m             \u001b[1;32mreturn\u001b[0m \u001b[1;36m1000\u001b[0m\u001b[1;33m*\u001b[0m\u001b[1;33m(\u001b[0m\u001b[1;36m1\u001b[0m\u001b[1;33m/\u001b[0m\u001b[0mage\u001b[0m\u001b[1;33m)\u001b[0m\u001b[1;33m\u001b[0m\u001b[1;33m\u001b[0m\u001b[0m\n",
      "\u001b[1;31mNegativeValue\u001b[0m: Car values cant be negative ---> -2"
     ]
    }
   ],
   "source": [
    "class NegativeValue (Exception):    ##### EXCEPTION IS BASICALLY THE BASE CLASS OF ALL THE EXCEPTIONS\n",
    "    \n",
    "    def __init__(self, value,message = 'Car values cant be negative'):\n",
    "        self.value = value \n",
    "        self.message = message \n",
    "        super ().__init__(self.message)\n",
    "\n",
    "    def __str__(self):\n",
    "        return f'{self.message} ---> {self.value}'\n",
    "\n",
    "class Vehicle :\n",
    "    def __init__(self,make,model,fuel):\n",
    "        self.make=make\n",
    "        self.model=model\n",
    "        self.fuel=fuel\n",
    "        self.current_year =2022\n",
    "        \n",
    "    def get_value(self):\n",
    "\n",
    "        age  = self.current_year -self.model\n",
    "\n",
    "        if age < 0 :\n",
    "            raise NegativeValue(age)\n",
    "        else :\n",
    "            return 1000*(1/age)\n",
    "\n",
    "myobj = Vehicle(\"tesla\",2024,\"electric\")\n",
    "myobj.get_value()\n"
   ]
  },
  {
   "cell_type": "markdown",
   "metadata": {},
   "source": [
    "after raising the custom error you can also haldle that by which your code will not throw the error "
   ]
  },
  {
   "cell_type": "code",
   "execution_count": 1,
   "metadata": {},
   "outputs": [
    {
     "name": "stdout",
     "output_type": "stream",
     "text": [
      "Error*** Car values cant be negative ---> -2\n"
     ]
    }
   ],
   "source": [
    "class NegativeValue (Exception):    ##### EXCEPTION IS BASICALLY THE BASE CLASS OF ALL THE EXCEPTIONS\n",
    "    \n",
    "    def __init__(self, value,message = 'Car values cant be negative'):\n",
    "        self.value = value \n",
    "        self.message = message \n",
    "        super ().__init__(self.message)\n",
    "\n",
    "    def __str__(self):\n",
    "        return f'{self.message} ---> {self.value}'\n",
    "\n",
    "class Vehicle :\n",
    "    def __init__(self,make,model,fuel):\n",
    "        self.make=make\n",
    "        self.model=model\n",
    "        self.fuel=fuel\n",
    "        self.current_year =2022\n",
    "        \n",
    "    def get_value(self):\n",
    "\n",
    "        age  = self.current_year -self.model\n",
    "        try :\n",
    "            if age < 0 :                                    ###### will not throw the error this will handled by the error handling by using the try and except method\n",
    "                raise NegativeValue(age)\n",
    "            else :\n",
    "                return 1000*(1/age)\n",
    "        except NegativeValue as e :\n",
    "            print(\"Error***\", e)\n",
    "\n",
    "myobj = Vehicle(\"tesla\",2024,\"electric\")\n",
    "myobj.get_value()\n"
   ]
  },
  {
   "cell_type": "markdown",
   "metadata": {},
   "source": [
    "else and finally  block in the Exception handling "
   ]
  },
  {
   "cell_type": "code",
   "execution_count": 12,
   "metadata": {},
   "outputs": [
    {
     "name": "stdout",
     "output_type": "stream",
     "text": [
      "Cod has inbuit Exception\n"
     ]
    },
    {
     "ename": "ValueError",
     "evalue": "invalid literal for int() with base 10: 'hjh'",
     "output_type": "error",
     "traceback": [
      "\u001b[1;31m---------------------------------------------------------------------------\u001b[0m",
      "\u001b[1;31mCarModelYearStringValue\u001b[0m                   Traceback (most recent call last)",
      "\u001b[1;32m~\\AppData\\Local\\Temp/ipykernel_13128/3820874916.py\u001b[0m in \u001b[0;36mget_value\u001b[1;34m(self)\u001b[0m\n\u001b[0;32m     34\u001b[0m                 \u001b[0mstatus\u001b[0m \u001b[1;33m=\u001b[0m \u001b[1;34m\"custom\"\u001b[0m                                   \u001b[1;31m###### will not throw the error this will handled by the error handling by using the try and except method\u001b[0m\u001b[1;33m\u001b[0m\u001b[1;33m\u001b[0m\u001b[0m\n\u001b[1;32m---> 35\u001b[1;33m                 \u001b[1;32mraise\u001b[0m \u001b[0mCarModelYearStringValue\u001b[0m\u001b[1;33m(\u001b[0m\u001b[0mself\u001b[0m\u001b[1;33m.\u001b[0m\u001b[0mmodel\u001b[0m\u001b[1;33m)\u001b[0m\u001b[1;33m\u001b[0m\u001b[1;33m\u001b[0m\u001b[0m\n\u001b[0m\u001b[0;32m     36\u001b[0m             \u001b[1;32melif\u001b[0m \u001b[0mself\u001b[0m\u001b[1;33m.\u001b[0m\u001b[0mmodel\u001b[0m \u001b[1;33m>=\u001b[0m \u001b[0mself\u001b[0m\u001b[1;33m.\u001b[0m\u001b[0mcurrent_year\u001b[0m \u001b[1;33m:\u001b[0m\u001b[1;33m\u001b[0m\u001b[1;33m\u001b[0m\u001b[0m\n",
      "\u001b[1;31mCarModelYearStringValue\u001b[0m: modle value of the car cant not be the string ---> hjh",
      "\nDuring handling of the above exception, another exception occurred:\n",
      "\u001b[1;31mValueError\u001b[0m                                Traceback (most recent call last)",
      "\u001b[1;32m~\\AppData\\Local\\Temp/ipykernel_13128/3820874916.py\u001b[0m in \u001b[0;36m<module>\u001b[1;34m\u001b[0m\n\u001b[0;32m     61\u001b[0m \u001b[1;33m\u001b[0m\u001b[0m\n\u001b[0;32m     62\u001b[0m \u001b[0mmyobj\u001b[0m \u001b[1;33m=\u001b[0m \u001b[0mVehicle\u001b[0m\u001b[1;33m(\u001b[0m\u001b[1;34m\"tesla\"\u001b[0m\u001b[1;33m,\u001b[0m\u001b[1;34m\"hjh\"\u001b[0m\u001b[1;33m,\u001b[0m\u001b[1;34m\"electric\"\u001b[0m\u001b[1;33m)\u001b[0m\u001b[1;33m\u001b[0m\u001b[1;33m\u001b[0m\u001b[0m\n\u001b[1;32m---> 63\u001b[1;33m \u001b[0mmyobj\u001b[0m\u001b[1;33m.\u001b[0m\u001b[0mget_value\u001b[0m\u001b[1;33m(\u001b[0m\u001b[1;33m)\u001b[0m\u001b[1;33m\u001b[0m\u001b[1;33m\u001b[0m\u001b[0m\n\u001b[0m",
      "\u001b[1;32m~\\AppData\\Local\\Temp/ipykernel_13128/3820874916.py\u001b[0m in \u001b[0;36mget_value\u001b[1;34m(self)\u001b[0m\n\u001b[0;32m     43\u001b[0m \u001b[1;33m\u001b[0m\u001b[0m\n\u001b[0;32m     44\u001b[0m         \u001b[1;32mexcept\u001b[0m \u001b[0mCarModelYearStringValue\u001b[0m \u001b[1;32mas\u001b[0m \u001b[0me\u001b[0m \u001b[1;33m:\u001b[0m\u001b[1;33m\u001b[0m\u001b[1;33m\u001b[0m\u001b[0m\n\u001b[1;32m---> 45\u001b[1;33m                 \u001b[0mself\u001b[0m\u001b[1;33m.\u001b[0m\u001b[0mage\u001b[0m\u001b[1;33m=\u001b[0m\u001b[0mself\u001b[0m\u001b[1;33m.\u001b[0m\u001b[0mcurrent_year\u001b[0m\u001b[1;33m-\u001b[0m\u001b[0mint\u001b[0m\u001b[1;33m(\u001b[0m\u001b[0mself\u001b[0m\u001b[1;33m.\u001b[0m\u001b[0mmodel\u001b[0m\u001b[1;33m)\u001b[0m\u001b[1;33m\u001b[0m\u001b[1;33m\u001b[0m\u001b[0m\n\u001b[0m\u001b[0;32m     46\u001b[0m                 \u001b[0mself\u001b[0m\u001b[1;33m.\u001b[0m\u001b[0mvalue\u001b[0m\u001b[1;33m=\u001b[0m\u001b[1;36m1000\u001b[0m\u001b[1;33m*\u001b[0m\u001b[1;33m(\u001b[0m\u001b[1;36m1\u001b[0m\u001b[1;33m/\u001b[0m\u001b[0mself\u001b[0m\u001b[1;33m.\u001b[0m\u001b[0mage\u001b[0m\u001b[1;33m)\u001b[0m\u001b[1;33m\u001b[0m\u001b[1;33m\u001b[0m\u001b[0m\n\u001b[0;32m     47\u001b[0m                 \u001b[0mstatus\u001b[0m \u001b[1;33m=\u001b[0m \u001b[1;34m\"inbuilt\"\u001b[0m\u001b[1;33m\u001b[0m\u001b[1;33m\u001b[0m\u001b[0m\n",
      "\u001b[1;31mValueError\u001b[0m: invalid literal for int() with base 10: 'hjh'"
     ]
    }
   ],
   "source": [
    "class NegativeZeroModelValue (Exception):    ##### EXCEPTION IS BASICALLY THE BASE CLASS OF ALL THE EXCEPTIONS\n",
    "    \n",
    "    def __init__(self, value,message = 'Modle value cant no be greater than or equal to 2022'):\n",
    "        self.value = value \n",
    "        self.message = message \n",
    "        super ().__init__(self.message)\n",
    "\n",
    "    def __str__(self):\n",
    "        return f'{self.message} ---> {self.value}'\n",
    "\n",
    "class CarModelYearStringValue(Exception):    ##### EXCEPTION IS BASICALLY THE BASE CLASS OF ALL THE EXCEPTIONS\n",
    "    \n",
    "    def __init__(self, value,message = 'modle value of the car cant not be the string'):\n",
    "        self.value = value \n",
    "        self.message = message \n",
    "        super ().__init__(self.message)\n",
    "\n",
    "    def __str__(self):\n",
    "        return f'{self.message} ---> {self.value}'\n",
    "\n",
    "\n",
    "class Vehicle :\n",
    "    def __init__(self,make,model,fuel):\n",
    "        self.make=make\n",
    "        self.model=model\n",
    "        self.fuel=fuel\n",
    "        self.current_year =2022\n",
    "        self.value = None\n",
    "        \n",
    "    def get_value(self):\n",
    "        try :\n",
    "\n",
    "            if type(self.model) == str: \n",
    "                status = \"custom\"                                   ###### will not throw the error this will handled by the error handling by using the try and except method\n",
    "                raise CarModelYearStringValue(self.model)\n",
    "            elif self.model >= self.current_year :\n",
    "                status = \"custom\" \n",
    "                raise NegativeZeroModelValue(self.model)\n",
    "            else :\n",
    "                self.age=self.current_year-self.model\n",
    "                self.value=1000*(1/self.age)\n",
    "                status=\"success\"\n",
    "\n",
    "        except CarModelYearStringValue as e :\n",
    "                self.age=self.current_year-int(self.model)\n",
    "                self.value=1000*(1/self.age)\n",
    "                status = \"inbuilt\"\n",
    "                print(\"Error,\",e)\n",
    "        else :\n",
    "            print('Code ran without any error')\n",
    "        \n",
    "        finally :\n",
    "            if status == 'custom' :\n",
    "                print(\"Code has inbuit Exception\")\n",
    "            elif status == \"inbuilt\":\n",
    "                print(\"Code has inbuilt Exception please rectify that\")\n",
    "            else :\n",
    "                print(\"that value wothout any exception\",self.value)\n",
    "\n",
    "            \n",
    "\n",
    "myobj = Vehicle(\"tesla\",\"hjh\",\"electric\")\n",
    "myobj.get_value()"
   ]
  },
  {
   "cell_type": "code",
   "execution_count": 9,
   "metadata": {},
   "outputs": [
    {
     "name": "stdout",
     "output_type": "stream",
     "text": [
      "code has inbuilt exceptions\n"
     ]
    },
    {
     "ename": "CarModeYearAsString",
     "evalue": "Model year can not be strings.Try Passing int values-->2014",
     "output_type": "error",
     "traceback": [
      "\u001b[1;31m---------------------------------------------------------------------------\u001b[0m",
      "\u001b[1;31mCarModeYearAsString\u001b[0m                       Traceback (most recent call last)",
      "\u001b[1;32m~\\AppData\\Local\\Temp/ipykernel_13128/4210213873.py\u001b[0m in \u001b[0;36m<module>\u001b[1;34m\u001b[0m\n\u001b[0;32m     50\u001b[0m \u001b[1;33m\u001b[0m\u001b[0m\n\u001b[0;32m     51\u001b[0m \u001b[0mmyobj\u001b[0m\u001b[1;33m=\u001b[0m\u001b[0mVehicle\u001b[0m\u001b[1;33m(\u001b[0m\u001b[1;34m\"Tesla\"\u001b[0m\u001b[1;33m,\u001b[0m\u001b[1;34m'2014'\u001b[0m\u001b[1;33m,\u001b[0m\u001b[1;34m\"electric\"\u001b[0m\u001b[1;33m)\u001b[0m\u001b[1;33m\u001b[0m\u001b[1;33m\u001b[0m\u001b[0m\n\u001b[1;32m---> 52\u001b[1;33m \u001b[0mmyobj\u001b[0m\u001b[1;33m.\u001b[0m\u001b[0mget_value\u001b[0m\u001b[1;33m(\u001b[0m\u001b[1;33m)\u001b[0m\u001b[1;33m\u001b[0m\u001b[1;33m\u001b[0m\u001b[0m\n\u001b[0m",
      "\u001b[1;32m~\\AppData\\Local\\Temp/ipykernel_13128/4210213873.py\u001b[0m in \u001b[0;36mget_value\u001b[1;34m(self)\u001b[0m\n\u001b[0;32m     27\u001b[0m             \u001b[1;32mif\u001b[0m \u001b[0mtype\u001b[0m\u001b[1;33m(\u001b[0m\u001b[0mself\u001b[0m\u001b[1;33m.\u001b[0m\u001b[0mmodel\u001b[0m\u001b[1;33m)\u001b[0m\u001b[1;33m==\u001b[0m\u001b[0mstr\u001b[0m\u001b[1;33m:\u001b[0m\u001b[1;33m\u001b[0m\u001b[1;33m\u001b[0m\u001b[0m\n\u001b[0;32m     28\u001b[0m                 \u001b[0mstatus\u001b[0m\u001b[1;33m=\u001b[0m\u001b[1;34m\"custom\"\u001b[0m\u001b[1;33m\u001b[0m\u001b[1;33m\u001b[0m\u001b[0m\n\u001b[1;32m---> 29\u001b[1;33m                 \u001b[1;32mraise\u001b[0m \u001b[0mCarModeYearAsString\u001b[0m\u001b[1;33m(\u001b[0m\u001b[0mself\u001b[0m\u001b[1;33m.\u001b[0m\u001b[0mmodel\u001b[0m\u001b[1;33m)\u001b[0m\u001b[1;33m\u001b[0m\u001b[1;33m\u001b[0m\u001b[0m\n\u001b[0m\u001b[0;32m     30\u001b[0m             \u001b[1;32melif\u001b[0m \u001b[0mself\u001b[0m\u001b[1;33m.\u001b[0m\u001b[0mmodel\u001b[0m\u001b[1;33m>=\u001b[0m\u001b[0mself\u001b[0m\u001b[1;33m.\u001b[0m\u001b[0mcurrent_year\u001b[0m\u001b[1;33m:\u001b[0m\u001b[1;33m\u001b[0m\u001b[1;33m\u001b[0m\u001b[0m\n\u001b[0;32m     31\u001b[0m                 \u001b[0mstatus\u001b[0m\u001b[1;33m=\u001b[0m\u001b[1;34m\"custom\"\u001b[0m\u001b[1;33m\u001b[0m\u001b[1;33m\u001b[0m\u001b[0m\n",
      "\u001b[1;31mCarModeYearAsString\u001b[0m: Model year can not be strings.Try Passing int values-->2014"
     ]
    }
   ],
   "source": [
    "class NegativeZeroModelYear(Exception):\n",
    "    def __init__(self,value,message=\"Model year cannot be equal or greater than 2021\"):\n",
    "        self.value=value\n",
    "        self.message=message\n",
    "        super().__init__(self.message)\n",
    "    \n",
    "    def __str__(self):\n",
    "        return f'{self.message}-->{self.value}'\n",
    "class CarModeYearAsString(Exception):\n",
    "    #Exception if the car value comes as negative\n",
    "    def __init__(self,value,message=\"Model year can not be strings.Try Passing int values\"):\n",
    "        self.value=value\n",
    "        self.message=message\n",
    "        super().__init__(self.message)\n",
    "    def __str__(self):\n",
    "        return f'{self.message}-->{self.value}'\n",
    "\n",
    "class Vehicle():\n",
    "    def __init__(self,make,model,fuel):\n",
    "        self.make=make\n",
    "        self.model=model\n",
    "        self.fuel=fuel\n",
    "        self.current_year=2021\n",
    "        self.value=None\n",
    "    def get_value(self):\n",
    "        try:\n",
    "            if type(self.model)==str:\n",
    "                status=\"custom\"\n",
    "                raise CarModeYearAsString(self.model)\n",
    "            elif self.model>=self.current_year:\n",
    "                status=\"custom\"\n",
    "                raise NegativeZeroModelYear(self.model)\n",
    "            else:\n",
    "                self.age=self.current_year-self.model\n",
    "                self.value=1000*(1/self.age)\n",
    "                status=\"success\"\n",
    "        except TypeError:\n",
    "            self.age=self.current_year-int(self.model)\n",
    "            self.value=1000*(1/self.age)\n",
    "            status=\"inbuilt\"\n",
    "        else:\n",
    "            print(\"code ran without any exceptions\")\n",
    "        finally:\n",
    "            if status==\"custom\":\n",
    "                print(\"code has inbuilt exceptions\")\n",
    "            elif status==\"inbuilt\":\n",
    "                print(\"code has inbuilt exceptions,please rectify that\")\n",
    "            else:\n",
    "                print(\"The value without any exception\",self.value)\n",
    "\n",
    "myobj=Vehicle(\"Tesla\",'2014',\"electric\")\n",
    "myobj.get_value()"
   ]
  },
  {
   "cell_type": "code",
   "execution_count": 13,
   "metadata": {},
   "outputs": [
    {
     "name": "stdout",
     "output_type": "stream",
     "text": [
      "Zero Division Error occured "
     ]
    }
   ],
   "source": [
    "class ZeroDenominatorError(ZeroDivisionError):\n",
    "    pass\n",
    "try:\n",
    "    a = 10\n",
    "    b = 0\n",
    "    if(b==0):\n",
    "        raise ZeroDenominatorError()\n",
    "    c = a/b\n",
    "except ZeroDivisionError:\n",
    "    print('Zero Division Error occured',end= ' ')\n",
    "except ZeroDenominatorError:\n",
    "    print('Zero Denominator Error occured',end = ' ')\n",
    "else:\n",
    "    print('else works')"
   ]
  }
 ],
 "metadata": {
  "kernelspec": {
   "display_name": "Python 3.10.0 64-bit",
   "language": "python",
   "name": "python3"
  },
  "language_info": {
   "codemirror_mode": {
    "name": "ipython",
    "version": 3
   },
   "file_extension": ".py",
   "mimetype": "text/x-python",
   "name": "python",
   "nbconvert_exporter": "python",
   "pygments_lexer": "ipython3",
   "version": "3.10.7"
  },
  "orig_nbformat": 4,
  "vscode": {
   "interpreter": {
    "hash": "6b6bb9b73e77c7418ba4b370821ce9827db27c53033f41f9ef34f697bab06e5b"
   }
  }
 },
 "nbformat": 4,
 "nbformat_minor": 2
}
