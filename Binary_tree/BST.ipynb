{
 "cells": [
  {
   "cell_type": "markdown",
   "metadata": {},
   "source": [
    "### normal fibbonacci program "
   ]
  },
  {
   "cell_type": "code",
   "execution_count": 28,
   "metadata": {},
   "outputs": [
    {
     "name": "stdout",
     "output_type": "stream",
     "text": [
      "102334155\n"
     ]
    }
   ],
   "source": [
    "def fibb(n):\n",
    "    if n == 0 or n == 1 :\n",
    "        return n \n",
    "    return fibb(n-1) + fibb(n-2) \n",
    "\n",
    "n= int(input())\n",
    "ans = fibb(n)\n",
    "print(ans)   "
   ]
  },
  {
   "cell_type": "markdown",
   "metadata": {},
   "source": [
    "### optimization of the fibonacci by DP\n"
   ]
  },
  {
   "cell_type": "code",
   "execution_count": 27,
   "metadata": {},
   "outputs": [
    {
     "name": "stdout",
     "output_type": "stream",
     "text": [
      "2880067194370816120\n"
     ]
    }
   ],
   "source": [
    "def fibb(n,dp):\n",
    "\n",
    "    if n == 1 or n == 0 :\n",
    "        return n \n",
    "    if dp[n-1] == -1 :\n",
    "        ans1 = fibb(n-1,dp)\n",
    "        dp[n-1] = ans1\n",
    "    else :\n",
    "        ans1 = dp[n-1]\n",
    "\n",
    "    if dp[n-2] == -1 :\n",
    "        ans2 = fibb(n-2,dp)\n",
    "        dp[n-2] = ans2\n",
    "    else :\n",
    "        ans2 = dp[n-2]\n",
    "\n",
    "    myans = ans1+ans2\n",
    "    return myans\n",
    "\n",
    "\n",
    "n = int(input())\n",
    "dp = [-1 for i in range(n+1)]\n",
    "ans = fibb(n,dp)\n",
    "print(ans)\n",
    "\n"
   ]
  }
 ],
 "metadata": {
  "kernelspec": {
   "display_name": "Python 3.10.0 64-bit",
   "language": "python",
   "name": "python3"
  },
  "language_info": {
   "codemirror_mode": {
    "name": "ipython",
    "version": 3
   },
   "file_extension": ".py",
   "mimetype": "text/x-python",
   "name": "python",
   "nbconvert_exporter": "python",
   "pygments_lexer": "ipython3",
   "version": "3.10.0"
  },
  "orig_nbformat": 4,
  "vscode": {
   "interpreter": {
    "hash": "6b6bb9b73e77c7418ba4b370821ce9827db27c53033f41f9ef34f697bab06e5b"
   }
  }
 },
 "nbformat": 4,
 "nbformat_minor": 2
}
