{
 "cells": [
  {
   "cell_type": "markdown",
   "metadata": {},
   "source": [
    "### find the path from root to the given value "
   ]
  },
  {
   "cell_type": "code",
   "execution_count": null,
   "metadata": {},
   "outputs": [],
   "source": [
    "import queue\n",
    "class BinaryTreeNode:\n",
    "    def __init__(self, data):\n",
    "        self.data = data\n",
    "        self.left = None\n",
    "        self.right = None\n",
    "\n",
    "def findPathBST(root,data):\n",
    "    if root is None :\n",
    "        return None \n",
    "    if root.data == data :\n",
    "        l = list()\n",
    "        l.append(root.data)\n",
    "        return l\n",
    "    if root.data > data :\n",
    "        leftOutput = findPathBST(root.left,data)\n",
    "        if leftOutput != None :\n",
    "            leftOutput.append(root.data)\n",
    "            return leftOutput\n",
    "        else :\n",
    "            return leftOutput\n",
    "    else :\n",
    "        rightOutput = findPathBST(root.right,data)\n",
    "        if rightOutput != None :\n",
    "            rightOutput.append(root.data)\n",
    "            return rightOutput\n",
    "        else :\n",
    "            return None \n",
    "        \n",
    "\n",
    "def buildLevelTree(levelorder):\n",
    "    index = 0\n",
    "    length = len(levelorder)\n",
    "    if length<=0 or levelorder[0]==-1:\n",
    "        return None\n",
    "    root = BinaryTreeNode(levelorder[index])\n",
    "    index += 1\n",
    "    q = queue.Queue()\n",
    "    q.put(root)\n",
    "    while not q.empty():\n",
    "        currentNode = q.get()\n",
    "        leftChild = levelorder[index]\n",
    "        index += 1\n",
    "        if leftChild != -1:\n",
    "            leftNode = BinaryTreeNode(leftChild)\n",
    "            currentNode.left =leftNode\n",
    "            q.put(leftNode)\n",
    "        rightChild = levelorder[index]\n",
    "        index += 1\n",
    "        if rightChild != -1:\n",
    "            rightNode = BinaryTreeNode(rightChild)\n",
    "            currentNode.right =rightNode\n",
    "            q.put(rightNode)\n",
    "    return root\n",
    "\n",
    "# Main\n",
    "levelOrder = [int(i) for i in input().strip().split()]\n",
    "root = buildLevelTree(levelOrder)\n",
    "data = int(input())\n",
    "path = findPathBST(root,data)\n",
    "if path is not None:\n",
    "    for ele in path:\n",
    "        print(ele,end=' ')"
   ]
  },
  {
   "cell_type": "markdown",
   "metadata": {},
   "source": [
    "### BST calss for the different functionality "
   ]
  },
  {
   "cell_type": "code",
   "execution_count": 5,
   "metadata": {},
   "outputs": [
    {
     "ename": "AttributeError",
     "evalue": "'int' object has no attribute 'data'",
     "output_type": "error",
     "traceback": [
      "\u001b[1;31m---------------------------------------------------------------------------\u001b[0m",
      "\u001b[1;31mAttributeError\u001b[0m                            Traceback (most recent call last)",
      "\u001b[1;32m~\\AppData\\Local\\Temp/ipykernel_14348/3598001100.py\u001b[0m in \u001b[0;36m<module>\u001b[1;34m\u001b[0m\n\u001b[0;32m     30\u001b[0m \u001b[1;33m\u001b[0m\u001b[0m\n\u001b[0;32m     31\u001b[0m \u001b[0mobj1\u001b[0m \u001b[1;33m=\u001b[0m \u001b[0mBST\u001b[0m\u001b[1;33m(\u001b[0m\u001b[1;33m)\u001b[0m\u001b[1;33m\u001b[0m\u001b[1;33m\u001b[0m\u001b[0m\n\u001b[1;32m---> 32\u001b[1;33m \u001b[0mobj1\u001b[0m\u001b[1;33m.\u001b[0m\u001b[0misPresent\u001b[0m\u001b[1;33m(\u001b[0m\u001b[1;36m5\u001b[0m\u001b[1;33m)\u001b[0m\u001b[1;33m\u001b[0m\u001b[1;33m\u001b[0m\u001b[0m\n\u001b[0m",
      "\u001b[1;32m~\\AppData\\Local\\Temp/ipykernel_14348/3598001100.py\u001b[0m in \u001b[0;36misPresent\u001b[1;34m(self, data)\u001b[0m\n\u001b[0;32m     21\u001b[0m \u001b[1;33m\u001b[0m\u001b[0m\n\u001b[0;32m     22\u001b[0m     \u001b[1;32mdef\u001b[0m \u001b[0misPresent\u001b[0m\u001b[1;33m(\u001b[0m\u001b[0mself\u001b[0m\u001b[1;33m,\u001b[0m \u001b[0mdata\u001b[0m\u001b[1;33m)\u001b[0m\u001b[1;33m:\u001b[0m\u001b[1;33m\u001b[0m\u001b[1;33m\u001b[0m\u001b[0m\n\u001b[1;32m---> 23\u001b[1;33m         \u001b[1;32mreturn\u001b[0m \u001b[0mself\u001b[0m\u001b[1;33m.\u001b[0m\u001b[0misPresentHealper\u001b[0m\u001b[1;33m(\u001b[0m\u001b[0mself\u001b[0m\u001b[1;33m.\u001b[0m\u001b[0mroot\u001b[0m\u001b[1;33m,\u001b[0m\u001b[0mdata\u001b[0m\u001b[1;33m)\u001b[0m\u001b[1;33m\u001b[0m\u001b[1;33m\u001b[0m\u001b[0m\n\u001b[0m\u001b[0;32m     24\u001b[0m \u001b[1;33m\u001b[0m\u001b[0m\n\u001b[0;32m     25\u001b[0m     \u001b[1;32mdef\u001b[0m \u001b[0mcount\u001b[0m\u001b[1;33m(\u001b[0m\u001b[0mself\u001b[0m\u001b[1;33m)\u001b[0m\u001b[1;33m:\u001b[0m\u001b[1;33m\u001b[0m\u001b[1;33m\u001b[0m\u001b[0m\n",
      "\u001b[1;32m~\\AppData\\Local\\Temp/ipykernel_14348/3598001100.py\u001b[0m in \u001b[0;36misPresentHealper\u001b[1;34m(self, root, data)\u001b[0m\n\u001b[0;32m     13\u001b[0m         \u001b[1;32mif\u001b[0m \u001b[0mroot\u001b[0m \u001b[1;32mis\u001b[0m \u001b[1;32mNone\u001b[0m \u001b[1;33m:\u001b[0m\u001b[1;33m\u001b[0m\u001b[1;33m\u001b[0m\u001b[0m\n\u001b[0;32m     14\u001b[0m             \u001b[1;32mreturn\u001b[0m \u001b[1;32mFalse\u001b[0m\u001b[1;33m\u001b[0m\u001b[1;33m\u001b[0m\u001b[0m\n\u001b[1;32m---> 15\u001b[1;33m         \u001b[1;32mif\u001b[0m \u001b[0mroot\u001b[0m\u001b[1;33m.\u001b[0m\u001b[0mdata\u001b[0m \u001b[1;33m==\u001b[0m \u001b[0mdata\u001b[0m \u001b[1;33m:\u001b[0m\u001b[1;33m\u001b[0m\u001b[1;33m\u001b[0m\u001b[0m\n\u001b[0m\u001b[0;32m     16\u001b[0m             \u001b[1;32mreturn\u001b[0m \u001b[1;32mTrue\u001b[0m\u001b[1;33m\u001b[0m\u001b[1;33m\u001b[0m\u001b[0m\n\u001b[0;32m     17\u001b[0m         \u001b[1;32mif\u001b[0m \u001b[0mroot\u001b[0m\u001b[1;33m.\u001b[0m\u001b[0mdata\u001b[0m \u001b[1;33m>\u001b[0m \u001b[0mdata\u001b[0m \u001b[1;33m:\u001b[0m\u001b[1;33m\u001b[0m\u001b[1;33m\u001b[0m\u001b[0m\n",
      "\u001b[1;31mAttributeError\u001b[0m: 'int' object has no attribute 'data'"
     ]
    }
   ],
   "source": [
    "class BST :\n",
    "\n",
    "    def __init__(self):\n",
    "        self.root = None\n",
    "        self.NmCount = 0 \n",
    "    def insert(self, data) :\n",
    "        return \n",
    "\n",
    "    def delete(self, data):\n",
    "        return False \n",
    "        \n",
    "    @staticmethod\n",
    "    def isPresentHealper(root,data):\n",
    "        if root is None :\n",
    "            return False\n",
    "        if root.data == data :\n",
    "            return True \n",
    "        if root.data > data :\n",
    "            return BST.isPresentHealper(root.left,data)\n",
    "        else :\n",
    "            return BST.isPresentHealper(root.right,data)\n",
    "\n",
    "    def isPresent(self, data):\n",
    "        return self.isPresentHealper(self.root,data)\n",
    "    \n",
    "    def count(self):\n",
    "        return \n",
    "    \n",
    "    def printTree(self, data):\n",
    "        return  \n",
    "\n",
    "obj1 = BST()\n",
    "obj1.isPresent(5)"
   ]
  },
  {
   "cell_type": "code",
   "execution_count": 3,
   "metadata": {},
   "outputs": [
    {
     "name": "stdout",
     "output_type": "stream",
     "text": [
      "False\n",
      "False\n",
      "False\n",
      "False\n",
      "0\n"
     ]
    }
   ],
   "source": [
    "class BinaryTreeNode:\n",
    "    def __init__(self,data):\n",
    "        self.data=data\n",
    "        self.left=None\n",
    "        self.right=None\n",
    "\n",
    "class BST:\n",
    "    def __init__(self):\n",
    "        self.root=None\n",
    "        self.numNodes=0\n",
    "    def printTreeHelper(self,root):\n",
    "        if root==None:\n",
    "            return\n",
    "        print(root.data,end=\":\")\n",
    "        if root.left!=None:\n",
    "            print(\"L\",root.left.data,end=\",\")\n",
    "        if root.right!=None:\n",
    "            print(\"R\",root.right.data,end=\"\")\n",
    "        print()\n",
    "        self.printTreeHelper(root.left)\n",
    "        self.printTreeHelper(root.right)\n",
    "        \n",
    "    def printTree(self):\n",
    "        self.printTreeHelper(self.root)\n",
    "    def isPresentHelper(self,root,data):\n",
    "        if root==None:\n",
    "            return False\n",
    "        if root.data==data:\n",
    "            return True\n",
    "        if root.data>data:\n",
    "            #call on left\n",
    "            return self.isPresentHelper(root.left,data)\n",
    "        else:\n",
    "            #Call on right\n",
    "            return self.isPresentHelper(root.right,data)\n",
    "    def isPresent(self,data):\n",
    "        return self.isPresentHelper(self.root,data)\n",
    "    def insert(self,data):\n",
    "        return\n",
    "    def deleteData(self):\n",
    "        return False\n",
    "    def count(self):\n",
    "        return 0\n",
    "\n",
    "b=BST()\n",
    "b.insert(10)\n",
    "b.insert(5)\n",
    "b.insert(12)\n",
    "print(b.isPresent(10))\n",
    "print(b.isPresent(7))\n",
    "print(b.isPresent(4))\n",
    "print(b.isPresent(10))\n",
    "print(b.count())\n",
    "b.printTree()"
   ]
  },
  {
   "cell_type": "code",
   "execution_count": 2,
   "metadata": {},
   "outputs": [
    {
     "name": "stdout",
     "output_type": "stream",
     "text": [
      "aman\n",
      "my name is aman \n"
     ]
    }
   ],
   "source": [
    "print(\"aman\") \n",
    "print(\"my name is aman \")"
   ]
  },
  {
   "cell_type": "code",
   "execution_count": null,
   "metadata": {},
   "outputs": [],
   "source": [
    "def getCompressedString(string) :\n",
    "  s = \"\"\n",
    "  count = 0 \n",
    "  for i in string: \n",
    "    if s == \"\" :\n",
    "      s+=i\n",
    "      count+=1\n",
    "    elif i == s[len(s)-1] : \n",
    "      count+=1 \n",
    "    else :\n",
    "      if count!=1 :    \n",
    "        s = s+str(count)+i   \n",
    "        count = 1 \n",
    "      else :\n",
    "        s = s+i  \n",
    "  if count!=1 :\n",
    "    return s+str(count)\n",
    "  else :\n",
    "    return s  "
   ]
  },
  {
   "cell_type": "code",
   "execution_count": null,
   "metadata": {},
   "outputs": [],
   "source": [
    "def firstIndex(arr, x):\n",
    "    if len(arr) == 0 :\n",
    "        return -1 \n",
    "    if arr[0] == x :\n",
    "        return 0 \n",
    "    else :\n",
    "        small = firstIndex(arr[1:],x)\n",
    "        if small == -1 :\n",
    "            return -1\n",
    "        else:\n",
    "            return small+1\n",
    "        \n",
    "from sys import setrecursionlimit\n",
    "setrecursionlimit(11000)\n",
    "n=int(input())\n",
    "arr=list(int(i) for i in input().strip().split(' '))\n",
    "x=int(input())\n",
    "print(firstIndex(arr, x))"
   ]
  }
 ],
 "metadata": {
  "kernelspec": {
   "display_name": "Python 3.10.0 64-bit",
   "language": "python",
   "name": "python3"
  },
  "language_info": {
   "codemirror_mode": {
    "name": "ipython",
    "version": 3
   },
   "file_extension": ".py",
   "mimetype": "text/x-python",
   "name": "python",
   "nbconvert_exporter": "python",
   "pygments_lexer": "ipython3",
   "version": "3.10.7"
  },
  "orig_nbformat": 4,
  "vscode": {
   "interpreter": {
    "hash": "6b6bb9b73e77c7418ba4b370821ce9827db27c53033f41f9ef34f697bab06e5b"
   }
  }
 },
 "nbformat": 4,
 "nbformat_minor": 2
}
