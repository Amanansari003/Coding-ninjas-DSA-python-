{
 "cells": [
  {
   "cell_type": "code",
   "execution_count": 4,
   "metadata": {},
   "outputs": [
    {
     "name": "stdout",
     "output_type": "stream",
     "text": [
      "false\n"
     ]
    }
   ],
   "source": [
    "def check(s, t):\n",
    "    k = 0\n",
    "    for i in range(len(t)):\n",
    "        for j in range(len(s)):\n",
    "            if t[i] == s[j]:\n",
    "                if k > j:\n",
    "                    return False\n",
    "                k = j\n",
    "                break\n",
    "    return True\n",
    "\n",
    "\n",
    "s = input()\n",
    "t = input()\n",
    "\n",
    "ans = check(s, t)\n",
    "if ans is True:\n",
    "    print('true')\n",
    "else:\n",
    "    print('false')\n"
   ]
  },
  {
   "cell_type": "code",
   "execution_count": 9,
   "metadata": {},
   "outputs": [
    {
     "name": "stdout",
     "output_type": "stream",
     "text": [
      "false\n"
     ]
    }
   ],
   "source": [
    "def contains(s, t):\n",
    "    if len(t) == 0:\n",
    "        return True\n",
    "    if len(s) == 0 :\n",
    "        return False \n",
    "    if s[0] == t[0] :\n",
    "        return contains(s[1:],t[1:])\n",
    "    else :\n",
    "        return contains(s[1:],t[:])\n",
    "    \n",
    "s = input()\n",
    "t = input()\n",
    "\n",
    "ans = contains(s,t)\n",
    "if ans is True:\n",
    "    print('true')\n",
    "else:\n",
    "    print('false')"
   ]
  },
  {
   "cell_type": "code",
   "execution_count": 13,
   "metadata": {},
   "outputs": [
    {
     "name": "stdout",
     "output_type": "stream",
     "text": [
      "60\n"
     ]
    }
   ],
   "source": [
    "def func(n,arr,b):\n",
    "    if n == 0 :\n",
    "        return b \n",
    "    else :\n",
    "        if b < n*arr[0] :\n",
    "            b = n * arr[0] \n",
    "        return func(n-1,arr[1:],b)\n",
    "n = int(input())\n",
    "arr = [int(i) for i in input().split()]\n",
    "arr.sort()\n",
    "print(func(n,arr,b = 0))\n",
    "\n"
   ]
  },
  {
   "cell_type": "code",
   "execution_count": 16,
   "metadata": {},
   "outputs": [
    {
     "name": "stdout",
     "output_type": "stream",
     "text": [
      "0\n"
     ]
    }
   ],
   "source": [
    "def func(n,arr,si,ei,b):\n",
    "    if si>=ei :\n",
    "        return b \n",
    "    else :\n",
    "        if b < n*arr[si] :\n",
    "            b = n * arr[si] \n",
    "        return func(n-1,arr,si+1,ei,b)\n",
    "n = int(input())\n",
    "arr = [int(i) for i in input().split()]\n",
    "arr.sort()\n",
    "print(func(n,arr,si = 0 ,ei = n, b = 0))"
   ]
  },
  {
   "cell_type": "code",
   "execution_count": 22,
   "metadata": {},
   "outputs": [
    {
     "name": "stdout",
     "output_type": "stream",
     "text": [
      "false\n"
     ]
    }
   ],
   "source": [
    "def spitArray(arr,si,lsum,rsum):\n",
    "    if len(arr) == si :\n",
    "        return lsum == rsum\n",
    "    else :\n",
    "        if arr[si]%3== 0 :\n",
    "            lsum+=arr[si]\n",
    "        elif arr[si]%5 == 0:\n",
    "            rsum+=arr[si]\n",
    "        else :\n",
    "            return spitArray(arr,si+1,lsum+arr[si],rsum) or spitArray(arr,si+1,lsum ,rsum+arr[si])\n",
    "\n",
    "\n",
    "\n",
    "n = int(input())\n",
    "arr = [int(i) for i in input().split()]\n",
    "m = spitArray(arr,0,0,0)\n",
    "if m :\n",
    "    print(\"true\")\n",
    "else :\n",
    "    print(\"false\")\n"
   ]
  },
  {
   "cell_type": "code",
   "execution_count": 4,
   "metadata": {},
   "outputs": [
    {
     "name": "stdout",
     "output_type": "stream",
     "text": [
      "1\n"
     ]
    }
   ],
   "source": [
    "def pow ( x, n):\n",
    "    if n == 0 :\n",
    "        return 1 \n",
    "    small_power = pow(x,n//2)\n",
    "    if n%2 == 0 :\n",
    "        return small_power * small_power\n",
    "    else :\n",
    "        return x * small_power * small_power\n",
    "\n",
    "print(pow(2,8))  "
   ]
  },
  {
   "cell_type": "code",
   "execution_count": 5,
   "metadata": {},
   "outputs": [
    {
     "ename": "IndentationError",
     "evalue": "expected an indented block after 'for' statement on line 4 (Temp/ipykernel_8308/2334783211.py, line 6)",
     "output_type": "error",
     "traceback": [
      "\u001b[1;36m  File \u001b[1;32m\"C:\\Users\\sagar\\AppData\\Local\\Temp/ipykernel_8308/2334783211.py\"\u001b[1;36m, line \u001b[1;32m6\u001b[0m\n\u001b[1;33m    n = n-1\u001b[0m\n\u001b[1;37m    ^\u001b[0m\n\u001b[1;31mIndentationError\u001b[0m\u001b[1;31m:\u001b[0m expected an indented block after 'for' statement on line 4\n"
     ]
    }
   ],
   "source": []
  }
 ],
 "metadata": {
  "kernelspec": {
   "display_name": "Python 3.10.0 64-bit",
   "language": "python",
   "name": "python3"
  },
  "language_info": {
   "codemirror_mode": {
    "name": "ipython",
    "version": 3
   },
   "file_extension": ".py",
   "mimetype": "text/x-python",
   "name": "python",
   "nbconvert_exporter": "python",
   "pygments_lexer": "ipython3",
   "version": "3.10.0"
  },
  "orig_nbformat": 4,
  "vscode": {
   "interpreter": {
    "hash": "6b6bb9b73e77c7418ba4b370821ce9827db27c53033f41f9ef34f697bab06e5b"
   }
  }
 },
 "nbformat": 4,
 "nbformat_minor": 2
}
