{
 "cells": [
  {
   "cell_type": "code",
   "execution_count": 23,
   "metadata": {},
   "outputs": [
    {
     "name": "stdout",
     "output_type": "stream",
     "text": [
      "-1\n"
     ]
    }
   ],
   "source": [
    "class PriorityQueueNode :\n",
    "    def __init__(self,value,priority):\n",
    "        self.value = value \n",
    "        self.priority = priority\n",
    "    \n",
    "class PriorityQueue :\n",
    "    def __init__(self):\n",
    "        self.pq = []\n",
    "    \n",
    "    def getSize(self):\n",
    "        return len(self.pq)\n",
    "\n",
    "    def isEmpty(self):\n",
    "        return self.getSize() == 0 \n",
    "    \n",
    "    def getMin(self):\n",
    "        if self.isEmpty() :\n",
    "            return -1 \n",
    "        return self.pq[0].value \n",
    "\n",
    "    def __perculateUp(self) :\n",
    "        childIndex = self.getSize()-1\n",
    "        while childIndex > 0 :\n",
    "            parent = (childIndex-1)//2  \n",
    "            if self.pq[childIndex].priority < self.pq[parent].priority :\n",
    "                self.pq[childIndex], self.pq[parent] = self.pq[parent], self.pq[childIndex]\n",
    "            else :\n",
    "                break\n",
    "            childIndex = parent\n",
    "\n",
    "    def insert (self,value,priority):\n",
    "        pqNode = PriorityQueueNode(value,priority)\n",
    "        self.pq.append(pqNode)\n",
    "        self.__perculateUp()\n",
    "        \n",
    "    def __perculateDown(self):\n",
    "        paretn = 0 \n",
    "        leftIndex = 2*paretn+1 \n",
    "        rightIndex = 2*paretn+2 \n",
    "        while leftIndex < self.getSize() :\n",
    "            minIndex = paretn\n",
    "            if self.pq[minIndex].priority > self.pq[leftIndex].priority :\n",
    "                minIndex = leftIndex\n",
    "            if rightIndex < self.getSize() and self.pq[minIndex].priority > self.pq[rightIndex].priority :\n",
    "                minIndex = rightIndex\n",
    "            if paretn == minIndex :\n",
    "                break \n",
    "            self.pq[paretn],self.pq[minIndex] = self.pq[minIndex], self.pq[paretn]\n",
    "            paretn = minIndex\n",
    "            leftIndex = 2*paretn+1 \n",
    "            rightIndex = 2*paretn+2 \n",
    "\n",
    "    def removemin(self):\n",
    "        if self.isEmpty() :\n",
    "            return -1 \n",
    "        ele = self.pq[0].value \n",
    "        self.pq[0],self.pq[-1] = self.pq[-1],self.pq[0]\n",
    "        self.pq.pop()\n",
    "        self.__perculateDown()\n",
    "        return ele \n",
    "\n",
    "m = PriorityQueue()\n",
    "print(m.removemin())\n",
    "\n",
    "\n",
    "j = m.pq\n",
    "for i in j :\n",
    "    print(i.value,end = \" \")"
   ]
  },
  {
   "cell_type": "code",
   "execution_count": 33,
   "metadata": {},
   "outputs": [
    {
     "name": "stdout",
     "output_type": "stream",
     "text": [
      "c a b "
     ]
    }
   ],
   "source": [
    "class PriorityQueueNode :\n",
    "    def __init__(self,value,priority):\n",
    "        self.value = value \n",
    "        self.priority = priority \n",
    "    \n",
    "class PriorityQueue :\n",
    "    def __init__(self):\n",
    "        self.pq = []\n",
    "\n",
    "    def isEmpty (self): \n",
    "        return self.getSize == 0 \n",
    "    \n",
    "    def getSize(self):\n",
    "        return len(self.pq)\n",
    "    \n",
    "    def getMax(self): \n",
    "        if self.isEmpty() :\n",
    "            return -1 \n",
    "        return self.pq[0].value \n",
    "    def __percolateUp(self):\n",
    "        childIndex = self.getSize() - 1 \n",
    "        while childIndex > 0 :\n",
    "            parent = (childIndex - 1)//2 \n",
    "            if self.pq[parent].priority < self.pq[childIndex].priority :\n",
    "                self.pq[parent], self.pq[childIndex] = self.pq[childIndex], self.pq[parent]\n",
    "            else :\n",
    "                break\n",
    "            childIndex  = parent\n",
    "\n",
    "    def insert(self,ele,priority):\n",
    "        pqNode = PriorityQueueNode(ele,priority)\n",
    "        self.pq.append(pqNode)\n",
    "        self.__percolateUp( )\n",
    "\n",
    "    def __percolateDown(self) :\n",
    "        parent = 0 \n",
    "        leftIndex = 2*parent+1 \n",
    "        rightIndex = 2*parent+2 \n",
    "\n",
    "        while leftIndex < self.getSize():\n",
    "            maxIndex = parent \n",
    "            if self.pq[maxIndex].priority < self.pq[leftIndex].priority :\n",
    "                maxIndex = leftIndex\n",
    "            if self.pq[maxIndex].priority < self.pq[rightIndex].priority :\n",
    "                maxIndex = rightIndex\n",
    "            if parent == maxIndex :\n",
    "                break\n",
    "            self.pq[parent],self.pq[maxIndex] = self.pq[maxIndex],self.pq[parent]\n",
    "            parent = maxIndex\n",
    "            leftIndex = 2*parent+1\n",
    "            rightIndex = 2*parent+2\n",
    "\n",
    "    def removeMax(self):\n",
    "        if self.isEmpty():\n",
    "            return -1 \n",
    "        ele = self.pq[0].value \n",
    "        self.pq[0] = self.pq[self.getSize()-1]\n",
    "        self.pq.pop()\n",
    "        self.__percolateDown( )\n",
    "        return ele \n",
    "\n",
    "m = PriorityQueue()\n",
    "m.insert(\"a\",10)\n",
    "m.insert(\"b\",15)\n",
    "m.insert(\"c\",20)\n",
    "m.insert(\"f\",40)\n",
    "m.removeMax( )\n",
    "j = m.pq\n",
    "for i in j :\n",
    "    print(i.value, end = \" \")"
   ]
  },
  {
   "cell_type": "markdown",
   "metadata": {},
   "source": [
    "### inplace heap "
   ]
  },
  {
   "cell_type": "code",
   "execution_count": 2,
   "metadata": {},
   "outputs": [
    {
     "name": "stdout",
     "output_type": "stream",
     "text": [
      "2 3 4 5 6 8 "
     ]
    }
   ],
   "source": [
    "def down_heapify(arr,i,n) :\n",
    "    parent = i \n",
    "    leftIndex = 2*parent+1 \n",
    "    rightIndex = 2*parent+2 \n",
    "\n",
    "    while leftIndex < n :\n",
    "        minIndex = parent \n",
    "        if arr[minIndex] > arr[leftIndex]:\n",
    "            minIndex = leftIndex \n",
    "        if rightIndex < n and arr[minIndex] > arr[rightIndex] :\n",
    "            minIndex = rightIndex \n",
    "        if parent == minIndex :\n",
    "            break\n",
    "        arr[minIndex],arr[parent] = arr[parent], arr[minIndex]\n",
    "        parent = minIndex\n",
    "        leftIndex = 2*parent+1 \n",
    "        rightIndex = 2*parent+2\n",
    "\n",
    "\n",
    "def heapSort(arr) :\n",
    "    n = len(arr)\n",
    "    for i in range(n//2-1,-1,-1):\n",
    "        down_heapify(arr,i,n)\n",
    "    for i in range(n-1,0,-1):\n",
    "        arr[0], arr[i] = arr[i], arr[0]\n",
    "        down_heapify(arr,0,i)\n",
    "    return \n",
    "\n",
    "n = input()\n",
    "arr = [int(ele) for ele in input().split()]\n",
    "heapSort(arr)\n",
    "for ele in arr[: : -1]:\n",
    "    print(ele,end=' ')"
   ]
  },
  {
   "cell_type": "code",
   "execution_count": 3,
   "metadata": {},
   "outputs": [
    {
     "name": "stdout",
     "output_type": "stream",
     "text": [
      "1 2 3 5\n"
     ]
    }
   ],
   "source": [
    "import heapq\n",
    "def kSmallest(lst, k):\n",
    "    l = []\n",
    "    for i in range(k):\n",
    "        l.append(lst[i])\n",
    "    heapq._heapify_max(l)\n",
    "    for i in range (k,n):\n",
    "        if l[0] > lst[i] :\n",
    "            heapq._heapreplace_max(l,lst[i])\n",
    "        \n",
    "    return l \n",
    "\n",
    "\n",
    "\n",
    "n=int(input())\n",
    "lst=list(int(i) for i in input().strip().split(' '))\n",
    "k=int(input())\n",
    "ans=kSmallest(lst, k)\n",
    "ans.sort()\n",
    "print(*ans, sep=' ')"
   ]
  },
  {
   "cell_type": "code",
   "execution_count": 4,
   "metadata": {},
   "outputs": [
    {
     "name": "stdout",
     "output_type": "stream",
     "text": [
      "12\n",
      "16\n",
      "20\n",
      "25\n"
     ]
    }
   ],
   "source": [
    "import heapq\n",
    "def kLargest(lst, k):\n",
    "    heap = lst[:k]\n",
    "    heapq.heapify(heap)\n",
    "    for i in range(k,n):\n",
    "        if heap[0]< lst[i] :\n",
    "            heapq.heapreplace(heap,lst[i])\n",
    "    return heap \n",
    "\n",
    "    \n",
    "n=int(input())\n",
    "lst=list(int(i) for i in input().strip().split(' '))\n",
    "k=int(input())\n",
    "ans=kLargest(lst, k)\n",
    "print(*ans, sep='\\n')\n"
   ]
  },
  {
   "cell_type": "markdown",
   "metadata": {},
   "source": [
    "### check max heap or not "
   ]
  },
  {
   "cell_type": "code",
   "execution_count": 8,
   "metadata": {},
   "outputs": [
    {
     "name": "stdout",
     "output_type": "stream",
     "text": [
      "false\n"
     ]
    }
   ],
   "source": [
    "def checkMaxHeap(arr):\n",
    "    flag = True \n",
    "    n = len(arr)\n",
    "    for i in range(n):\n",
    "        L = 2*i+1\n",
    "        R = 2*i+2\n",
    "        if L < n and R < n :\n",
    "            if arr[i] < max(arr[L],arr[R]) :\n",
    "                flag = False \n",
    "                return flag\n",
    "        if L < n :\n",
    "            if arr[i]< arr[L]:\n",
    "                flag = False\n",
    "                return flag\n",
    "    return flag\n",
    "        \n",
    "n=int(input())\n",
    "lst=list(int(i) for i in input().strip().split(' '))\n",
    "print('true') if checkMaxHeap(lst) else print('false')"
   ]
  },
  {
   "cell_type": "markdown",
   "metadata": {},
   "source": [
    "### kth largest element "
   ]
  },
  {
   "cell_type": "code",
   "execution_count": 15,
   "metadata": {},
   "outputs": [
    {
     "name": "stdout",
     "output_type": "stream",
     "text": [
      "10\n"
     ]
    }
   ],
   "source": [
    "import heapq\n",
    "def kthLargest(arr, k):\n",
    "    heap = arr[:k]\n",
    "    heapq.heapify(heap)\n",
    "    n = len(arr)\n",
    "    for i in range(k,n):\n",
    "        if heap[0] < arr[i]:\n",
    "            heapq.heapreplace(heap,arr[i])\n",
    "    return heap[0]\n",
    "\n",
    "n=int(input())\n",
    "lst=list(int(i) for i in input().strip().split(' '))\n",
    "k=int(input())\n",
    "ans=kthLargest(lst, k)\n",
    "print(ans)"
   ]
  },
  {
   "cell_type": "code",
   "execution_count": null,
   "metadata": {},
   "outputs": [],
   "source": [
    "# Python program to delete the\n",
    "# leaf from the generic tree\n",
    "\n",
    "# a treenode class\n",
    "class TreeNode:\n",
    "\tdef __init__(self, data):\n",
    "\t\tself.data = data\n",
    "\t\tself.children = []\n",
    "\n",
    "# Recursive function which delete\n",
    "# the leaf from tree\n",
    "def removeLeaf(root):\n",
    "  \t# Base case only for the root \n",
    "    if root is None :\n",
    "        return None \n",
    "    # checking whether root is having children or not \n",
    "    # if not return None \n",
    "    if len(root.children) == 0 :\n",
    "        return None  \n",
    "    i = 0 \n",
    "    while i < len(root.children):\n",
    "      \t\t\n",
    "        \t# taking the child of root node \n",
    "        current = root.children[i]\n",
    "        \n",
    "        # recursive call \n",
    "        value = removeLeaf(current)\n",
    "        if not (value) :\n",
    "            root.children.remove(current)\n",
    "        else :\n",
    "            i+=1\n",
    "    return root\n",
    "         \n",
    "      \n",
    "      \n",
    "      \n",
    "\n",
    "# Function which will print the\n",
    "# tree level wise\n",
    "def printTheTree(root):\n",
    "\tif (root == None):\n",
    "\t\treturn\n",
    "\tprint(\"{} :\".format(root.data), end=\"\")\n",
    "\tfor i in range(len(root.children)):\n",
    "\t\tprint(\"{} \".format(root.children[i].data), end=\"\")\n",
    "\tprint()\n",
    "\tfor i in range(len(root.children)):\n",
    "\t\tprintTheTree(root.children[i])\n",
    "\n",
    "# Driver code\n",
    "if __name__ == \"__main__\":\n",
    "\n",
    "\t#\t\t 5\n",
    "\t#\t / / \\ \\\n",
    "\t# 1 2 3 8\n",
    "\t# / /\\ \\\n",
    "\t# 15 4 5 6\n",
    "\n",
    "\troot = TreeNode(5)\n",
    "\tchild1 = TreeNode(1)\n",
    "\troot.children.append(child1)\n",
    "\tchild11 = TreeNode(15)\n",
    "\tchild1.children.append(child11)\n",
    "\tchild2 = TreeNode(2)\n",
    "\troot.children.append(child2)\n",
    "\tchild21 = TreeNode(4)\n",
    "\tchild22 = TreeNode(5)\n",
    "\tchild2.children.append(child21)\n",
    "\tchild2.children.append(child22)\n",
    "\tchild3 = TreeNode(3)\n",
    "\troot.children.append(child3)\n",
    "\tchild31 = TreeNode(6)\n",
    "\tchild3.children.append(child31)\n",
    "\tchild4 = TreeNode(8)\n",
    "\troot.children.append(child4)\n",
    "\n",
    "\troot=removeLeaf(root)\n",
    "\tprintTheTree(root)"
   ]
  }
 ],
 "metadata": {
  "kernelspec": {
   "display_name": "Python 3.10.0 64-bit",
   "language": "python",
   "name": "python3"
  },
  "language_info": {
   "codemirror_mode": {
    "name": "ipython",
    "version": 3
   },
   "file_extension": ".py",
   "mimetype": "text/x-python",
   "name": "python",
   "nbconvert_exporter": "python",
   "pygments_lexer": "ipython3",
   "version": "3.10.0"
  },
  "orig_nbformat": 4,
  "vscode": {
   "interpreter": {
    "hash": "6b6bb9b73e77c7418ba4b370821ce9827db27c53033f41f9ef34f697bab06e5b"
   }
  }
 },
 "nbformat": 4,
 "nbformat_minor": 2
}
