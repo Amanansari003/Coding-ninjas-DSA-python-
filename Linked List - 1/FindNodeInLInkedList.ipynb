{
 "cells": [
  {
   "cell_type": "markdown",
   "id": "2b4b4f2f",
   "metadata": {},
   "source": [
    "                    Find a Node in Linked List\n",
    "\n",
    "    \n",
    "    \n",
    "You have been given a singly linked list of integers. Write a function that returns the index/position of integer data denoted by 'N' (if it exists). Return -1 otherwise.\n",
    "Note :\n",
    "Assume that the Indexing for the singly linked list always starts from 0.\n",
    "Input format :\n",
    "The first line contains an Integer 'T' which denotes the number of test cases. \n",
    "\n",
    "The first line of each test case or query contains the elements of the singly linked list separated by a single space. \n",
    "\n",
    "The second line contains the integer value 'N'. It denotes the data to be searched in the given singly linked list.\n",
    "Remember/Consider :\n",
    "While specifying the list elements for input, -1 indicates the end of the singly linked list and hence -1 would never be a list element.\n",
    "Output format :\n",
    "For each test case, return the index/position of 'N' in the singly linked list. Return -1, otherwise.\n",
    "\n",
    "Output for every test case will be printed in a separate line.\n",
    "Note:\n",
    "You do not need to print anything; it has already been taken care of. Just implement the given function.\n",
    " Constraints :\n",
    "1 <= T <= 10^2\n",
    "0 <= M <= 10^5\n",
    "\n",
    "Where 'M' is the size of the singly linked list.\n",
    "\n",
    "Time Limit: 1 sec\n",
    "Sample Input 1 :\n",
    "2\n",
    "3 4 5 2 6 1 9 -1\n",
    "5\n",
    "10 20 30 40 50 60 70 -1\n",
    "6\n",
    "Sample Output 1 :\n",
    "2\n",
    "-1"
   ]
  },
  {
   "cell_type": "code",
   "execution_count": null,
   "id": "95a14edd",
   "metadata": {},
   "outputs": [],
   "source": [
    "class Node:\n",
    "    def __init__(self, data):\n",
    "        self.data = data\n",
    "        self.next = None\n",
    "\n",
    "\n",
    "def findNode(head, ele):\n",
    "    c= 0 \n",
    "    while head  :\n",
    "        if head.data == ele :\n",
    "            return c\n",
    "        c+=1\n",
    "        head = head.next \n",
    "    else :   \n",
    "        return -1\n"
   ]
  }
 ],
 "metadata": {
  "kernelspec": {
   "display_name": "Python 3 (ipykernel)",
   "language": "python",
   "name": "python3"
  },
  "language_info": {
   "codemirror_mode": {
    "name": "ipython",
    "version": 3
   },
   "file_extension": ".py",
   "mimetype": "text/x-python",
   "name": "python",
   "nbconvert_exporter": "python",
   "pygments_lexer": "ipython3",
   "version": "3.10.0"
  }
 },
 "nbformat": 4,
 "nbformat_minor": 5
}
