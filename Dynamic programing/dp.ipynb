{
 "cells": [
  {
   "cell_type": "markdown",
   "metadata": {},
   "source": [
    "### normal fibonacci "
   ]
  },
  {
   "cell_type": "code",
   "execution_count": 4,
   "metadata": {},
   "outputs": [
    {
     "name": "stdout",
     "output_type": "stream",
     "text": [
      "5\n"
     ]
    }
   ],
   "source": [
    "def fibb(n):\n",
    "    if n ==1 or n== 0 :\n",
    "        return n \n",
    "    return fibb(n-1)+fibb(n-2)\n",
    "\n",
    "n = int(input())\n",
    "print(fibb(n))"
   ]
  },
  {
   "cell_type": "markdown",
   "metadata": {},
   "source": [
    "### optimized solution from the dynamic programing \n"
   ]
  },
  {
   "cell_type": "code",
   "execution_count": 5,
   "metadata": {},
   "outputs": [
    {
     "name": "stdout",
     "output_type": "stream",
     "text": [
      "[-1, -1, -1, -1, -1]\n",
      "[0, 1, -1, -1, -1]\n",
      "[0, 1, 1, -1, -1]\n",
      "[0, 1, 1, 2, -1]\n",
      "[0, 1, 1, 2, 3]\n",
      "5\n"
     ]
    }
   ],
   "source": [
    "def fibb(n,dp):\n",
    "    if n== 0 or n==1 :\n",
    "        return n \n",
    "    if dp[n-1] == -1 :\n",
    "        ans1 = fibb(n-1,dp)\n",
    "        dp[n-1] = ans1\n",
    "    else :\n",
    "        ans1 = dp[n-1]\n",
    "    if dp[n-2] == -1 :\n",
    "        ans2 = fibb(n-2,dp)\n",
    "        dp[n-2] = ans2\n",
    "    else :\n",
    "        ans2 = dp[n-2]\n",
    "    print(dp)\n",
    "    return ans1+ans2 \n",
    "\n",
    "n = int(input())\n",
    "dp = [-1 for i in range(n)]\n",
    "print(dp)\n",
    "print(fibb(n,dp))\n",
    "\n",
    "\n",
    "\n"
   ]
  },
  {
   "cell_type": "markdown",
   "metadata": {},
   "source": [
    "### iterative dynamic programing "
   ]
  },
  {
   "cell_type": "code",
   "execution_count": 35,
   "metadata": {},
   "outputs": [
    {
     "name": "stdout",
     "output_type": "stream",
     "text": [
      "34\n",
      "[0, 1, 1, 2, 3, 5, 8, 13, 21, 34]\n"
     ]
    }
   ],
   "source": [
    "def fibbI(n):\n",
    "    dp = [0 for i in range(n+1)]\n",
    "    dp[0] = 0 \n",
    "    dp[1] = 1 \n",
    "    i = 2 \n",
    "    while i <=n :\n",
    "        dp[i]=dp[i-1]+dp[i-2]\n",
    "        i+=1\n",
    "    return dp[n],dp\n",
    "\n",
    "n = int(input())\n",
    "ans ,val = fibbI(n)\n",
    "print(ans) \n",
    "print(val) "
   ]
  },
  {
   "cell_type": "markdown",
   "metadata": {},
   "source": [
    "### minimum step to 1"
   ]
  },
  {
   "cell_type": "code",
   "execution_count": 62,
   "metadata": {},
   "outputs": [
    {
     "name": "stdout",
     "output_type": "stream",
     "text": [
      "3\n"
     ]
    }
   ],
   "source": [
    "from sys import maxsize \n",
    "\n",
    "def miniStepTo1(n,help):\n",
    "\n",
    "    if n == 1 :\n",
    "        return 0 \n",
    "\n",
    "    ans1 = val_max\n",
    "    if n%3 == 0 :\n",
    "        if help[n//3]!=-1 :\n",
    "            ans1 = help[n//3]\n",
    "        else :\n",
    "            ans1 = miniStepTo1(n//3,help)\n",
    "            help[n//3] = ans1\n",
    "\n",
    "    ans2 = val_max\n",
    "    if n%2 == 0 :\n",
    "        if help[n//2] != -1 :\n",
    "            ans2 = help[n//2]\n",
    "        else :\n",
    "            ans2 = miniStepTo1(n//2,help)\n",
    "            help[n//2] = ans2\n",
    "\n",
    "    if help[n-1]!= -1 :\n",
    "        ans3 = help[n-1]\n",
    "    else :\n",
    "        ans3 = miniStepTo1(n-1,help)\n",
    "        help[n-1] = ans3\n",
    "    return 1+min(ans1,ans2,ans3)\n",
    "\n",
    "n = int(input())\n",
    "val_max = maxsize\n",
    "help = [-1 for i in range(n+1)]\n",
    "print(miniStepTo1(n,help)) \n"
   ]
  },
  {
   "cell_type": "markdown",
   "metadata": {},
   "source": [
    "### by the iterative solution "
   ]
  },
  {
   "cell_type": "code",
   "execution_count": 3,
   "metadata": {},
   "outputs": [
    {
     "name": "stdout",
     "output_type": "stream",
     "text": [
      "3\n"
     ]
    }
   ],
   "source": [
    "from sys import maxsize \n",
    "def miniStepTo1(n):\n",
    "    minSteps = [0]*(n+1)\n",
    "    minSteps[1] = 0 \n",
    "    current = 2 \n",
    "    while current<= n:\n",
    "        by3 = max_value\n",
    "        by2 = max_value \n",
    "        subt = max_value\n",
    "\n",
    "        if current %3 == 0 :\n",
    "            by3 = minSteps[current//3]\n",
    "        if current %2 == 0 :\n",
    "            by2 = minSteps[current //2]\n",
    "        subt = minSteps[current-1]\n",
    "\n",
    "        minSteps[current] = 1 + min(by2,by3,subt)\n",
    "        current+=1 \n",
    "    return minSteps[n]\n",
    "\n",
    "\n",
    "n = int(input())\n",
    "max_value = maxsize\n",
    "# help = [-1 for i in range(n+1)]\n",
    "print(miniStepTo1(n)) "
   ]
  },
  {
   "cell_type": "markdown",
   "metadata": {},
   "source": [
    "### minimum square needed"
   ]
  },
  {
   "cell_type": "code",
   "execution_count": 19,
   "metadata": {},
   "outputs": [
    {
     "name": "stdout",
     "output_type": "stream",
     "text": [
      "1\n"
     ]
    }
   ],
   "source": [
    "from sys import maxsize\n",
    "import math\n",
    "def minimumSquare(n,dp):\n",
    "\n",
    "    if n == 0 :\n",
    "        return 0 \n",
    "    ans = maxsize\n",
    "    root = int(math.sqrt(n))\n",
    "    for i in range(1,root+1):\n",
    "        newCheckVlaue = n-(i**2)\n",
    "        if dp[newCheckVlaue] == -1 :\n",
    "            curr = 1+minimumSquare(newCheckVlaue,dp)\n",
    "            dp[newCheckVlaue] = curr-1\n",
    "\n",
    "        else :\n",
    "            curr = 1+dp[newCheckVlaue]\n",
    "        ans = min(curr,ans)\n",
    "\n",
    "    return  ans\n",
    "\n",
    "\n",
    "n = int(input())\n",
    "dp = [-1 for i in range(n+1)]\n",
    "print(minimumSquare(n,dp))\n",
    "\n",
    "\n",
    "    "
   ]
  },
  {
   "cell_type": "markdown",
   "metadata": {},
   "source": [
    "### longest increasing subsequence "
   ]
  },
  {
   "cell_type": "code",
   "execution_count": 27,
   "metadata": {},
   "outputs": [
    {
     "name": "stdout",
     "output_type": "stream",
     "text": [
      "3\n"
     ]
    }
   ],
   "source": [
    "def lis(li,i,n):\n",
    "    if i==n:\n",
    "        return 0,0\n",
    "    including_max=1\n",
    "    for j in range(i+1,n):\n",
    "        if li[j]>=li[i]:\n",
    "            further_including_max=lis(li,j,n)[0]\n",
    "            including_max=max(including_max,1+further_including_max)\n",
    "    excluding_max=lis(li,i+1,n)[1]\n",
    "    overallMax=max(including_max,excluding_max)\n",
    "    return including_max,overallMax\n",
    "n=int(input())\n",
    "li=[int(ele) for ele in input().split()]\n",
    "ans=lis(li,0,n)[1]\n",
    "print(ans)"
   ]
  },
  {
   "cell_type": "markdown",
   "metadata": {},
   "source": [
    "### optimized by dp "
   ]
  },
  {
   "cell_type": "code",
   "execution_count": 32,
   "metadata": {},
   "outputs": [
    {
     "name": "stdout",
     "output_type": "stream",
     "text": [
      "2\n"
     ]
    }
   ],
   "source": [
    "def lis(li,i,n,dp):\n",
    "    if i == n :\n",
    "        return 0,0 \n",
    "    \n",
    "    including_max = 1 \n",
    "    for j in range(i+1,n):\n",
    "        if li[j]> li[i]:\n",
    "            if dp[j] == -1 :\n",
    "                ans = lis(li,j,n,dp)\n",
    "                dp[j] = ans\n",
    "                further_including_max = ans[0]\n",
    "            else :\n",
    "                further_including_max  = dp[j][0]\n",
    "            including_max = max(including_max,1+further_including_max)\n",
    "    if dp[i+1] == -1 :\n",
    "        ans = lis(li,i+1,n,dp)\n",
    "        dp[i+1] = ans\n",
    "        excluding_max = ans[1]\n",
    "    else :\n",
    "        excluding_max = dp[i+1][1]\n",
    "    overall_max = max(including_max,excluding_max)\n",
    "    return including_max,overall_max\n",
    "\n",
    "n = int(input())\n",
    "li = [int(i) for i in input().split()]\n",
    "dp = [-1 for i in range(n+1)]\n",
    "ans = lis(li,0,n,dp)[1]\n",
    "print(ans)"
   ]
  },
  {
   "cell_type": "markdown",
   "metadata": {},
   "source": []
  },
  {
   "cell_type": "code",
   "execution_count": 26,
   "metadata": {},
   "outputs": [
    {
     "name": "stdout",
     "output_type": "stream",
     "text": [
      "3\n"
     ]
    }
   ],
   "source": [
    "def lis(li,i,n,dp):\n",
    "    if i==n:\n",
    "        return 0,0\n",
    "    including_max=1\n",
    "    for j in range(i+1,n):\n",
    "        if li[j]>=li[i]:\n",
    "            if dp[j]==-1:\n",
    "                ans=lis(li,j,n,dp)\n",
    "                dp[j]=ans\n",
    "                further_including_max=ans[0]\n",
    "            else:\n",
    "                further_including_max=dp[j][0]\n",
    "            including_max=max(including_max,1+further_including_max)\n",
    "    if dp[i+1]==-1:\n",
    "        ans=lis(li,i+1,n,dp)\n",
    "        dp[i+1]=ans\n",
    "        excluding_max=ans[1]\n",
    "    else:\n",
    "        excluding_max=dp[i+1][1]\n",
    "    overallMax=max(including_max,excluding_max)\n",
    "    return including_max,overallMax\n",
    "n=int(input())\n",
    "li=[int(ele) for ele in input().split()]\n",
    "dp=[-1 for i in range(n+1)]\n",
    "ans=lis(li,0,n,dp)[1]\n",
    "print(ans)"
   ]
  },
  {
   "cell_type": "markdown",
   "metadata": {},
   "source": [
    "iterative solutuion "
   ]
  },
  {
   "cell_type": "code",
   "execution_count": null,
   "metadata": {},
   "outputs": [],
   "source": [
    "def lisI(li,n):\n",
    "    \n",
    "    dp=[[0 for j in range(2) ]for i in range(n+1)]\n",
    "    \n",
    "    for i in range(n-1,-1,-1):\n",
    "        including_max=1\n",
    "        for j in range(i+1,n):\n",
    "            if li[j]>li[i]:\n",
    "                including_max=max(including_max,1+dp[j][0])\n",
    "        dp[i][0]=including_max\n",
    "        excluding_max=dp[i+1][1]\n",
    "        overallMax=max(including_max,excluding_max)\n",
    "        dp[i][1]=overallMax\n",
    "    return dp[0][1]\n",
    "n=int(input())\n",
    "li=[int(ele) for ele in input().split()]\n",
    "ans=lisI(li,n)\n",
    "print(ans)"
   ]
  },
  {
   "cell_type": "markdown",
   "metadata": {},
   "source": [
    "### minimum cost path "
   ]
  },
  {
   "cell_type": "code",
   "execution_count": null,
   "metadata": {},
   "outputs": [],
   "source": [
    "from sys import maxsize\n",
    "def minCostPath(cost,i,j,n,m):\n",
    "\n",
    "    if i == n-1 and j == m-1 :\n",
    "        return cost[i][j]\n",
    "    if i >= n or j >= m :\n",
    "        return maxsize\n",
    "    \n",
    "    ans1 = minCostPath(cost,i,j+1,n,m)\n",
    "    ans2 = minCostPath(cost,i+1,j,n,m)\n",
    "    ans3 = minCostPath(cost,i+1,j+1,n,m)\n",
    "    ans = cost[i][j]+min(ans1,ans2,ans3)\n",
    "\n",
    "    return ans "
   ]
  },
  {
   "cell_type": "markdown",
   "metadata": {},
   "source": [
    "### minimum cost optimize approach "
   ]
  },
  {
   "cell_type": "code",
   "execution_count": 7,
   "metadata": {},
   "outputs": [
    {
     "name": "stdout",
     "output_type": "stream",
     "text": [
      "30\n"
     ]
    }
   ],
   "source": [
    "from sys import maxsize\n",
    "\n",
    "def minCostPath(cost,i,j,n,m,dp):\n",
    "\n",
    "    if i == n-1 and j == m-1 :\n",
    "        return cost[i][j]\n",
    "    if i >= n or j >= m :\n",
    "        return maxsize\n",
    "    if dp[i][j+1] == maxsize :\n",
    "        ans1 = minCostPath(cost,i,j+1,n,m,dp)\n",
    "        dp[i][j+1] = ans1\n",
    "    else :\n",
    "        ans1 = dp[i][j+1]\n",
    "    if dp[i+1][j] == maxsize :\n",
    "        ans2 = minCostPath(cost,i+1,j,n,m,dp)\n",
    "        dp[i+1][j] = ans2\n",
    "    else :\n",
    "        ans2 = dp[i+1][j]\n",
    "    if dp[i+1][j+1] == maxsize :\n",
    "        ans3 = minCostPath(cost,i+1,j+1,n,m,dp)\n",
    "        dp[i+1][j+1] = ans3\n",
    "    else :\n",
    "        ans3 = dp[i+1][j+1]\n",
    "    ans = cost[i][j]+min(ans1,ans2,ans3)\n",
    "    return ans \n",
    "\n",
    "cost = [[1,5,11],[8,13,12],[2,3,7],[15,16,18]]\n",
    "n = 4\n",
    "m = 3\n",
    "dp = [[maxsize for j in range(m+1)] for i in range(n+1)]\n",
    "ans = minCostPath(cost,0,0,n,m,dp)\n",
    "print(ans)"
   ]
  },
  {
   "cell_type": "markdown",
   "metadata": {},
   "source": [
    "### iterative approch bottom up approch "
   ]
  },
  {
   "cell_type": "code",
   "execution_count": 8,
   "metadata": {},
   "outputs": [
    {
     "name": "stdout",
     "output_type": "stream",
     "text": [
      "30\n"
     ]
    }
   ],
   "source": [
    "from sys import maxsize\n",
    "\n",
    "def minCostPath(cost,n,m):\n",
    "\n",
    "    ## making the 2-D array of the maximum values \n",
    "    dp = dp = [[maxsize for j in range(m+1)] for i in range(n+1)]\n",
    "\n",
    "    ##     ITERATING FROM LAST TO START \n",
    "    for i in range(n-1,-1,-1):     \n",
    "        for j in range(m-1,-1,-1):\n",
    "            ## filling last value by the condition\n",
    "            if i == n-1 and j == m-1 :\n",
    "                dp[i][j] = cost[i][j]\n",
    "            else :\n",
    "                ans1 = dp[i+1][j]\n",
    "                ans2 = dp[i][j+1]\n",
    "                ans3 = dp[i+1][j+1]\n",
    "\n",
    "                dp[i][j] = cost[i][j]+min(ans1,ans2,ans3)\n",
    "    \n",
    "    ## ANS will be stored at the 0th posi of the dp array because we are comming from last to first \n",
    "    return dp[0][0]\n",
    "\n",
    "\n",
    "\n",
    "\n",
    "\n",
    "cost = [[1,5,11],[8,13,12],[2,3,7],[15,16,18]]\n",
    "n = 4\n",
    "m = 3\n",
    "ans = minCostPath(cost,n,m)\n",
    "print(ans)"
   ]
  },
  {
   "cell_type": "markdown",
   "metadata": {},
   "source": [
    "### top down approch "
   ]
  },
  {
   "cell_type": "code",
   "execution_count": 9,
   "metadata": {},
   "outputs": [
    {
     "name": "stdout",
     "output_type": "stream",
     "text": [
      "30\n"
     ]
    }
   ],
   "source": [
    "import sys\n",
    "\n",
    "def minCostIterativeTD(cost,n,m):\n",
    "    \n",
    "    dp=[[sys.maxsize for j in range(m+1)]for i in range(n+1)]\n",
    "    for i in range(1,n+1):\n",
    "        for j in range(1,m+1):\n",
    "            if i==1 and j==1:\n",
    "                dp[i][j]=cost[0][0]\n",
    "            else:\n",
    "                ans1=dp[i-1][j]\n",
    "                ans2=dp[i][j-1]\n",
    "                ans3=dp[i-1][j-1]\n",
    "                dp[i][j]=cost[i-1][j-1]+min(ans1,ans2,ans3)\n",
    "    return dp[n][m]\n",
    "\n",
    "cost = [[1,5,11],[8,13,12],[2,3,7],[15,16,18]]\n",
    "n = 4\n",
    "m = 3\n",
    "ans = minCostIterativeTD(cost,n,m)\n",
    "print(ans)"
   ]
  },
  {
   "cell_type": "markdown",
   "metadata": {},
   "source": [
    "### longest commone subsequence "
   ]
  },
  {
   "cell_type": "code",
   "execution_count": 17,
   "metadata": {},
   "outputs": [
    {
     "name": "stdout",
     "output_type": "stream",
     "text": [
      "4\n"
     ]
    }
   ],
   "source": [
    "def lcs(str1,str2,i,j):\n",
    "    if i == len(str1) or j == len(str2):\n",
    "        return 0 \n",
    "    \n",
    "    if str1[i] == str2[j] :\n",
    "        ans = 1+lcs(str1,str2,i+1,j+1)\n",
    "    else :\n",
    "        ans1 = lcs(str1,str2,i+1,j)\n",
    "        ans2 = lcs(str1,str2,i,j+1)\n",
    "\n",
    "        ans = max(ans1,ans2)\n",
    "\n",
    "    return ans \n",
    "\n",
    "str1=\"abedgjc\"\n",
    "str2=\"bmdgsc\"\n",
    "print(lcs(str1,str2,0,0))\n",
    "\n",
    "\n"
   ]
  },
  {
   "cell_type": "markdown",
   "metadata": {},
   "source": [
    "### memoization "
   ]
  },
  {
   "cell_type": "code",
   "execution_count": 16,
   "metadata": {},
   "outputs": [
    {
     "name": "stdout",
     "output_type": "stream",
     "text": [
      "4\n"
     ]
    }
   ],
   "source": [
    "def lcs(str1,str2,i,j,dp):\n",
    "    if i == len(str1) or j == len(str2):\n",
    "        return 0 \n",
    "    \n",
    "    if str1[i] == str2[j] :\n",
    "        if dp[i+1][j+1] == -1 :\n",
    "            ans = lcs(str1,str2,i+1,j+1,dp)\n",
    "            dp[i+1][j+1] = ans\n",
    "            ans+=1\n",
    "        else :\n",
    "            ans = 1+dp[i+1][j+1]\n",
    "    else :\n",
    "        if dp[i+1][j] == -1 :\n",
    "            ans1 = lcs(str1,str2,i+1,j,dp)\n",
    "            dp[i+1][j] = ans1\n",
    "        else :\n",
    "            ans1 = dp[i+1][j]\n",
    "        if dp[i][j+1] == -1 :\n",
    "            ans2 = lcs(str1,str2,i,j+1,dp)\n",
    "            dp[i][j+1] = ans2\n",
    "        else :\n",
    "            ans2 = dp[i][j+1]\n",
    "        \n",
    "        ans = max(ans1,ans2)\n",
    "    return ans \n",
    "\n",
    "str1= input()\n",
    "str2= input()\n",
    "n=len(str1)\n",
    "m=len(str2)\n",
    "dp=[[-1 for j in range(m+1)]for i in range(n+1)]\n",
    "ans=lcs(str1,str2,0,0,dp)\n",
    "print(ans)  \n",
    "        "
   ]
  },
  {
   "cell_type": "markdown",
   "metadata": {},
   "source": [
    "### iterative solution "
   ]
  },
  {
   "cell_type": "code",
   "execution_count": 19,
   "metadata": {},
   "outputs": [
    {
     "name": "stdout",
     "output_type": "stream",
     "text": [
      "4\n"
     ]
    }
   ],
   "source": [
    "def lcs(s,t):\n",
    "    \n",
    "    n = len(s)\n",
    "    m = len(t)\n",
    "\n",
    "    dp = [[0 for j in range(m+1)] for i in range(n+1)]\n",
    "    for i in range(n-1,-1,-1):\n",
    "        for j in range(m-1,-1,-1):\n",
    "\n",
    "            if s[i] == t[j]:\n",
    "                dp[i][j] = 1+dp[i+1][j+1]\n",
    "            else :\n",
    "                dp[i][j] = max(dp[i+1][j],dp[i][j+1])\n",
    "    return dp[0][0]\n",
    "\n",
    "str1=\"abedgjc\"\n",
    "str2=\"bmdgsc\"\n",
    "print(lcs(str1,str2))"
   ]
  },
  {
   "cell_type": "markdown",
   "metadata": {},
   "source": [
    "### 0 1 knapsack"
   ]
  },
  {
   "cell_type": "code",
   "execution_count": 1,
   "metadata": {},
   "outputs": [
    {
     "name": "stdout",
     "output_type": "stream",
     "text": [
      "500\n"
     ]
    }
   ],
   "source": [
    "def knapsack(w,val,wt,n,i):\n",
    "    ## base case \n",
    "    if i == n :\n",
    "        return 0 \n",
    "    \n",
    "    if wt[i] > w :\n",
    "        ans = knapsack(w,val,wt,n,i+1)\n",
    "    else :\n",
    "\n",
    "        ## inclusion of the value \n",
    "        ans1 = val[i]+knapsack(w-wt[i],val,wt,n,i+1)\n",
    "        # exlusion of the value \n",
    "        ans2 = knapsack(w,val,wt,n,i+1)\n",
    "        ans = max(ans1,ans2)\n",
    "    return ans\n",
    "\n",
    "\n",
    "val=[200,300,100]\n",
    "wt=[20,25,30]\n",
    "W=50\n",
    "n=len(val)\n",
    "dp = [[0 for j in range(W+1)] for i in range(n+1)]\n",
    "ans=knapsack(W,val,wt,n,0,dp)\n",
    "print(ans)"
   ]
  },
  {
   "cell_type": "code",
   "execution_count": 3,
   "metadata": {},
   "outputs": [
    {
     "name": "stdout",
     "output_type": "stream",
     "text": [
      "500\n"
     ]
    }
   ],
   "source": [
    "def knapSack(W, wt, val, n):\n",
    "    dp = [0 for i in range(W+1)]  # Making the dp array\n",
    " \n",
    "    for i in range(1, n+1):  # taking first i elements\n",
    "        for w in range(W, 0, -1):  # starting from back,so that we also have data of\n",
    "                                # previous computation when taking i-1 items\n",
    "            if wt[i-1] <= w:\n",
    "                # finding the maximum value\n",
    "                dp[w] = max(dp[w], dp[w-wt[i-1]]+val[i-1])\n",
    " \n",
    "    return dp[W]  # returning the maximum value of knapsack\n",
    " \n",
    "val=[200,300,100]\n",
    "wt=[20,25,30]\n",
    "W=50\n",
    "n=len(val)\n",
    "ans=knapsack(W,val,wt,n,0)\n",
    "print(ans)"
   ]
  },
  {
   "cell_type": "markdown",
   "metadata": {},
   "source": [
    "### matrix chain multiplication "
   ]
  },
  {
   "cell_type": "code",
   "execution_count": 5,
   "metadata": {},
   "outputs": [
    {
     "name": "stdout",
     "output_type": "stream",
     "text": [
      "124\n"
     ]
    }
   ],
   "source": [
    "from sys import maxsize \n",
    "\n",
    "def mcm(p,i,j):\n",
    "\n",
    "    if i == j :\n",
    "        return 0 \n",
    "    min_value = maxsize\n",
    "    for k in range(i,j):\n",
    "        ans1 = mcm(p,i,k)\n",
    "        ans2 = mcm(p,k+1,j)\n",
    "        m_cost = p[i-1]*p[k]*p[j]\n",
    "        current_value = ans1+ans2+m_cost\n",
    "        min_value = min(current_value,min_value)\n",
    "    return min_value\n",
    "\n",
    "p=[2,3,4,5,6]\n",
    "n=len(p)-1\n",
    "# dp=[[-1 for j in range(n+1)]for i in range(n+1)]\n",
    "ans=mcm(p,1,n)\n",
    "print(ans)\n",
    "\n"
   ]
  },
  {
   "cell_type": "markdown",
   "metadata": {},
   "source": [
    "### memoization solution "
   ]
  },
  {
   "cell_type": "code",
   "execution_count": 6,
   "metadata": {},
   "outputs": [
    {
     "name": "stdout",
     "output_type": "stream",
     "text": [
      "124\n"
     ]
    }
   ],
   "source": [
    "from sys import maxsize \n",
    "def mcm(p,i,j,dp):\n",
    "    if i == j :\n",
    "        return 0 \n",
    "\n",
    "    min_value = maxsize\n",
    "    for k in range(i,j):\n",
    "        if dp[i][k] == -1 :\n",
    "            ans1 = mcm(p,i,k,dp)\n",
    "            dp[i][k] = ans1\n",
    "        else :\n",
    "            ans1 = dp[i][k]\n",
    "        if dp[k+1][j] == -1 :\n",
    "            ans2 = mcm(p,k+1,j,dp)\n",
    "            dp[k+1][j] = ans2\n",
    "        else :\n",
    "            ans2 = dp[k+1][j]\n",
    "        \n",
    "        m_cost = p[i-1]*p[k]*p[j]\n",
    "        curr_value = ans1+ans2+m_cost\n",
    "        min_value = min(curr_value,min_value)\n",
    "    return min_value\n",
    "\n",
    "p=[2,3,4,5,6]\n",
    "n=len(p)-1\n",
    "dp=[[-1 for j in range(n+1)]for i in range(n+1)]\n",
    "ans=mcm(p,1,n,dp)\n",
    "print(ans)\n"
   ]
  }
 ],
 "metadata": {
  "kernelspec": {
   "display_name": "Python 3.10.0 64-bit",
   "language": "python",
   "name": "python3"
  },
  "language_info": {
   "codemirror_mode": {
    "name": "ipython",
    "version": 3
   },
   "file_extension": ".py",
   "mimetype": "text/x-python",
   "name": "python",
   "nbconvert_exporter": "python",
   "pygments_lexer": "ipython3",
   "version": "3.10.7"
  },
  "orig_nbformat": 4,
  "vscode": {
   "interpreter": {
    "hash": "6b6bb9b73e77c7418ba4b370821ce9827db27c53033f41f9ef34f697bab06e5b"
   }
  }
 },
 "nbformat": 4,
 "nbformat_minor": 2
}
