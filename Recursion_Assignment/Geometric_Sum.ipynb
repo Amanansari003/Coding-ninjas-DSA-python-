{
 "cells": [
  {
   "cell_type": "code",
   "execution_count": null,
   "id": "e0ce9416",
   "metadata": {},
   "outputs": [],
   "source": [
    "        Geometric Sum\n",
    "\n",
    "Given k, find the geometric sum i.e.\n",
    "1 + 1/2 + 1/4 + 1/8 + ... + 1/(2^k) \n",
    "using recursion.\n",
    "Input format :\n",
    "Integer k\n",
    "Output format :\n",
    "Geometric sum (upto 5 decimal places)\n",
    "Constraints :\n",
    "0 <= k <= 1000\n",
    "Sample Input 1 :\n",
    "3\n",
    "Sample Output 1 :\n",
    "1.87500"
   ]
  },
  {
   "cell_type": "code",
   "execution_count": null,
   "id": "8d875e47",
   "metadata": {},
   "outputs": [],
   "source": [
    "def geoSum(k,sum):\n",
    "    if k < 0  :\n",
    "        return sum\n",
    "    sum += 1/(2**k)\n",
    "    return geoSum(k-1,sum)\n",
    "\n",
    "\n",
    "k = int( input())\n",
    "value  = geoSum(k,sum = 0)\n",
    "print(format(value,\".5f\"))   "
   ]
  }
 ],
 "metadata": {
  "kernelspec": {
   "display_name": "Python 3 (ipykernel)",
   "language": "python",
   "name": "python3"
  },
  "language_info": {
   "codemirror_mode": {
    "name": "ipython",
    "version": 3
   },
   "file_extension": ".py",
   "mimetype": "text/x-python",
   "name": "python",
   "nbconvert_exporter": "python",
   "pygments_lexer": "ipython3",
   "version": "3.10.0"
  }
 },
 "nbformat": 4,
 "nbformat_minor": 5
}
