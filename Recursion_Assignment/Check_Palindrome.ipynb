{
 "cells": [
  {
   "cell_type": "code",
   "execution_count": null,
   "id": "54f51319",
   "metadata": {},
   "outputs": [],
   "source": [
    "            Check Palindrome (recursive)\n",
    "\n",
    "Check whether a given String S is a palindrome using recursion. Return true or false.\n",
    "Input Format :\n",
    "String S\n",
    "Output Format :\n",
    "'true' or 'false'\n",
    "Constraints :\n",
    "0 <= |S| <= 1000\n",
    "where |S| represents length of string S.\n",
    "Sample Input 1 :\n",
    "racecar\n",
    "Sample Output 1:\n",
    "true"
   ]
  },
  {
   "cell_type": "code",
   "execution_count": 1,
   "id": "9701213d",
   "metadata": {},
   "outputs": [
    {
     "name": "stdout",
     "output_type": "stream",
     "text": [
      "ninja\n",
      "false\n"
     ]
    }
   ],
   "source": [
    "def chk1(st,si,ei):\n",
    "    if si == ei :\n",
    "        return True\n",
    "    if st[si] != st[ei] :\n",
    "        return False \n",
    "    if si  < ei+1 :\n",
    "        return chk1(st,si+1,ei-1)\n",
    "    return True \n",
    "def chk (st,n) :\n",
    "    if n == 0 :\n",
    "        return True\n",
    "    return chk1(st,0,n-1)\n",
    "\n",
    "\n",
    "strings = input()\n",
    "n = len(strings)\n",
    "value = chk(strings,n)\n",
    "if value :\n",
    "    print(\"true\")\n",
    "else :\n",
    "    print(\"false\")"
   ]
  }
 ],
 "metadata": {
  "kernelspec": {
   "display_name": "Python 3 (ipykernel)",
   "language": "python",
   "name": "python3"
  },
  "language_info": {
   "codemirror_mode": {
    "name": "ipython",
    "version": 3
   },
   "file_extension": ".py",
   "mimetype": "text/x-python",
   "name": "python",
   "nbconvert_exporter": "python",
   "pygments_lexer": "ipython3",
   "version": "3.10.0"
  }
 },
 "nbformat": 4,
 "nbformat_minor": 5
}
