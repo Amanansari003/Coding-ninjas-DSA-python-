{
 "cells": [
  {
   "cell_type": "code",
   "execution_count": null,
   "id": "6016e00b",
   "metadata": {},
   "outputs": [],
   "source": [
    "        Sum of digits (recursive)\n",
    "\n",
    "Write a recursive function that returns the sum of the digits of a given integer.\n",
    "Input format :\n",
    "Integer N\n",
    "Output format :\n",
    "Sum of digits of N\n",
    "Constraints :\n",
    "0 <= N <= 10^9\n",
    "Sample Input 1 :\n",
    "12345\n",
    "Sample Output 1 :\n",
    "15"
   ]
  },
  {
   "cell_type": "code",
   "execution_count": 1,
   "id": "f13b8c71",
   "metadata": {},
   "outputs": [
    {
     "name": "stdout",
     "output_type": "stream",
     "text": [
      "12345\n",
      "15\n"
     ]
    }
   ],
   "source": [
    "def numSum(num) :\n",
    "    if len(str(num)) == 1 :\n",
    "        return num \n",
    "    else :\n",
    "        last_digi = num %10 \n",
    "        num = num//10 \n",
    "        return last_digi+numSum(num)\n",
    "\n",
    "\n",
    "num  = int(input())\n",
    "print(numSum(num))"
   ]
  }
 ],
 "metadata": {
  "kernelspec": {
   "display_name": "Python 3 (ipykernel)",
   "language": "python",
   "name": "python3"
  },
  "language_info": {
   "codemirror_mode": {
    "name": "ipython",
    "version": 3
   },
   "file_extension": ".py",
   "mimetype": "text/x-python",
   "name": "python",
   "nbconvert_exporter": "python",
   "pygments_lexer": "ipython3",
   "version": "3.10.0"
  }
 },
 "nbformat": 4,
 "nbformat_minor": 5
}
