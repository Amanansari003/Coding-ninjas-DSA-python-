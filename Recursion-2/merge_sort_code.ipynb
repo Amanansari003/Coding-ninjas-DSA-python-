{
 "cells": [
  {
   "cell_type": "code",
   "execution_count": null,
   "id": "1de2bf2f",
   "metadata": {},
   "outputs": [],
   "source": [
    "            Merge Sort Code   Question \n",
    "Send Feedback\n",
    "Sort an array A using Merge Sort.\n",
    "Change in the input array itself. So no need to return or print anything.\n",
    "Input format :\n",
    "Line 1 : Integer n i.e. Array size\n",
    "Line 2 : Array elements (separated by space)\n",
    "Output format :\n",
    "Array elements in increasing order (separated by space)\n",
    "Constraints :\n",
    "1 <= n <= 10^3\n",
    "Sample Input 1 :\n",
    "6 \n",
    "2 6 8 5 4 3\n",
    "Sample Output 1 :\n",
    "2 3 4 5 6 8"
   ]
  },
  {
   "cell_type": "code",
   "execution_count": 1,
   "id": "5fd0a9f6",
   "metadata": {},
   "outputs": [
    {
     "name": "stdout",
     "output_type": "stream",
     "text": [
      "5\n",
      "5 4 3 2 1\n",
      "1 2 3 4 5 "
     ]
    }
   ],
   "source": [
    "def mergeSort(array):\n",
    "    if len(array) > 1:\n",
    "        r = len(array)//2\n",
    "        L = array[:r]\n",
    "        M = array[r:]\n",
    "\n",
    "        mergeSort(L)\n",
    "        mergeSort(M)\n",
    "        sorted(L,M,array)\n",
    "\n",
    "def sorted(L,M,array) :\n",
    "\n",
    "    i = j = k = 0\n",
    "    while i < len(L) and j < len(M):\n",
    "        if L[i] < M[j]:\n",
    "            array[k] = L[i]\n",
    "            i += 1\n",
    "        else:\n",
    "            array[k] = M[j]\n",
    "            j += 1\n",
    "        k += 1\n",
    "    while i < len(L):\n",
    "        array[k] = L[i]\n",
    "        i += 1\n",
    "        k += 1\n",
    "\n",
    "    while j < len(M):\n",
    "        array[k] = M[j]\n",
    "        j += 1\n",
    "        k += 1\n",
    "# def printList(array):\n",
    "#     for i in range(len(array)):\n",
    "#         print(array[i], end=\" \")\n",
    "#     print()\n",
    "\n",
    "\n",
    "# Driver program\n",
    "\n",
    "n = int(input())\n",
    "array = [int(i) for i in input().split()]\n",
    "\n",
    "mergeSort(array)\n",
    "for i in array :\n",
    "    print(i, end = ' ')"
   ]
  }
 ],
 "metadata": {
  "kernelspec": {
   "display_name": "Python 3 (ipykernel)",
   "language": "python",
   "name": "python3"
  },
  "language_info": {
   "codemirror_mode": {
    "name": "ipython",
    "version": 3
   },
   "file_extension": ".py",
   "mimetype": "text/x-python",
   "name": "python",
   "nbconvert_exporter": "python",
   "pygments_lexer": "ipython3",
   "version": "3.10.0"
  }
 },
 "nbformat": 4,
 "nbformat_minor": 5
}
