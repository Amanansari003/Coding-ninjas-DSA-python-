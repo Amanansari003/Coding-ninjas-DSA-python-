{
 "cells": [
  {
   "cell_type": "code",
   "execution_count": null,
   "id": "974217f7",
   "metadata": {},
   "outputs": [],
   "source": [
    "        Remove Duplicates Recursively  Question\n",
    "Send Feedback\n",
    "Given a string S, remove consecutive duplicates from it recursively.\n",
    "Input Format :\n",
    "String S\n",
    "Output Format :\n",
    "Output string\n",
    "Constraints :\n",
    "1 <= |S| <= 10^3\n",
    "where |S| represents the length of string\n",
    "Sample Input 1 :\n",
    "aabccba\n",
    "Sample Output 1 :\n",
    "abcba"
   ]
  },
  {
   "cell_type": "code",
   "execution_count": 1,
   "id": "1abce161",
   "metadata": {},
   "outputs": [
    {
     "name": "stdout",
     "output_type": "stream",
     "text": [
      "aaabbbbcsjs\n",
      "abcsjs\n"
     ]
    }
   ],
   "source": [
    "# Problem ID 91, removeConsecutiveDuplicates\n",
    "def remove_occurence(s):\n",
    "    if len(s) == 0 or len(s) == 1 :\n",
    "        return s\n",
    "    if s[0] == s[1] :\n",
    "        return remove_occurence(s[1:])\n",
    "    else :\n",
    "        return   s[0] + remove_occurence(s[1:])\n",
    "s = input()\n",
    "print(remove_occurence(s))\n"
   ]
  }
 ],
 "metadata": {
  "kernelspec": {
   "display_name": "Python 3 (ipykernel)",
   "language": "python",
   "name": "python3"
  },
  "language_info": {
   "codemirror_mode": {
    "name": "ipython",
    "version": 3
   },
   "file_extension": ".py",
   "mimetype": "text/x-python",
   "name": "python",
   "nbconvert_exporter": "python",
   "pygments_lexer": "ipython3",
   "version": "3.10.0"
  }
 },
 "nbformat": 4,
 "nbformat_minor": 5
}
