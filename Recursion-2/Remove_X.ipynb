{
 "cells": [
  {
   "cell_type": "code",
   "execution_count": null,
   "id": "18909ef5",
   "metadata": {},
   "outputs": [],
   "source": [
    "                REMOVE X : QUEATION\n",
    "Send Feedback\n",
    "Given a string, compute recursively a new string where all 'x' chars have been removed.\n",
    "Input format :\n",
    "String S\n",
    "Output format :\n",
    "Modified String\n",
    "Constraints :\n",
    "1 <= |S| <= 10^3\n",
    "where |S| represents the length of string S. \n",
    "Sample Input 1 :\n",
    "xaxb\n",
    "Sample Output 1:\n",
    "ab"
   ]
  },
  {
   "cell_type": "code",
   "execution_count": 2,
   "id": "0bc17316",
   "metadata": {},
   "outputs": [
    {
     "name": "stdout",
     "output_type": "stream",
     "text": [
      "xxbbsbbdjjfbxxxjjejhs\n",
      "bbsbbdjjfbjjejhs\n"
     ]
    }
   ],
   "source": [
    "def removeX(string): \n",
    "    if len(string) == 0 :\n",
    "        return string \n",
    "    if string[0] == \"x\" :\n",
    "        return removeX(string[1:])\n",
    "    else :\n",
    "        return string[0] + removeX(string[1:])\n",
    "\n",
    "# Main\n",
    "string = input()\n",
    "print(removeX(string))"
   ]
  }
 ],
 "metadata": {
  "kernelspec": {
   "display_name": "Python 3 (ipykernel)",
   "language": "python",
   "name": "python3"
  },
  "language_info": {
   "codemirror_mode": {
    "name": "ipython",
    "version": 3
   },
   "file_extension": ".py",
   "mimetype": "text/x-python",
   "name": "python",
   "nbconvert_exporter": "python",
   "pygments_lexer": "ipython3",
   "version": "3.10.0"
  }
 },
 "nbformat": 4,
 "nbformat_minor": 5
}
