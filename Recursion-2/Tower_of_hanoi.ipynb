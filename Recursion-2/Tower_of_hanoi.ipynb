{
 "cells": [
  {
   "cell_type": "code",
   "execution_count": null,
   "id": "9c5ead46",
   "metadata": {},
   "outputs": [],
   "source": [
    "TOWER OF HANOI \n",
    "\n",
    "\n",
    "Tower of Hanoi is a mathematical puzzle where we have three rods and n disks. The objective of the puzzle is to move all disks from source rod to destination rod using third rod (say auxiliary). The rules are :\n",
    "1) Only one disk can be moved at a time.\n",
    "2) A disk can be moved only if it is on the top of a rod.\n",
    "3) No disk can be placed on the top of a smaller disk.\n",
    "Print the steps required to move n disks from source rod to destination rod.\n",
    "Source Rod is named as 'a', auxiliary rod as 'b' and destination rod as 'c'.\n",
    "Input Format :\n",
    "Integer n\n",
    "Output Format :\n",
    "Steps in different lines (in one line print source and destination rod name separated by space)\n",
    "Constraints :\n",
    "0 <= n <= 20\n",
    "Sample Input 1 :\n",
    "2\n",
    "Sample Output 1 :\n",
    "a b\n",
    "a c\n",
    "b c"
   ]
  },
  {
   "cell_type": "code",
   "execution_count": null,
   "id": "347bfd8e",
   "metadata": {},
   "outputs": [],
   "source": [
    "def tower_hanoi(n,a,b,c):\n",
    "    if n==1:\n",
    "        print(a,c)\n",
    "        return\n",
    "    tower_hanoi(n-1,a,c,b)\n",
    "    print(a,c)\n",
    "    tower_hanoi(n-1,b,a,c)\n",
    "\n",
    "\n",
    "n=int(input())\n",
    "if n!=0 :\n",
    "    tower_hanoi(n, 'a', 'b', 'c')\n"
   ]
  }
 ],
 "metadata": {
  "kernelspec": {
   "display_name": "Python 3 (ipykernel)",
   "language": "python",
   "name": "python3"
  },
  "language_info": {
   "codemirror_mode": {
    "name": "ipython",
    "version": 3
   },
   "file_extension": ".py",
   "mimetype": "text/x-python",
   "name": "python",
   "nbconvert_exporter": "python",
   "pygments_lexer": "ipython3",
   "version": "3.10.0"
  }
 },
 "nbformat": 4,
 "nbformat_minor": 5
}
