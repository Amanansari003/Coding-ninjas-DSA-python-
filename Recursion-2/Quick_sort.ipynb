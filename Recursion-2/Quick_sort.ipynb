{
 "cells": [
  {
   "cell_type": "code",
   "execution_count": null,
   "id": "228eb1e2",
   "metadata": {},
   "outputs": [],
   "source": [
    "Quick Sort Code QUESTION \n",
    "\n",
    "Sort an array A using Quick Sort.\n",
    "Change in the input array itself. So no need to return or print anything.\n",
    "\n",
    "\n",
    "Input format :\n",
    "Line 1 : Integer n i.e. Array size\n",
    "Line 2 : Array elements (separated by space)\n",
    "Output format :\n",
    "Array elements in increasing order (separated by space)\n",
    "Constraints :\n",
    "1 <= n <= 10^3\n",
    "Sample Input 1 :\n",
    "6 \n",
    "2 6 8 5 4 3\n",
    "Sample Output 1 :\n",
    "2 3 4 5 6 8"
   ]
  },
  {
   "cell_type": "code",
   "execution_count": 1,
   "id": "7a2daba6",
   "metadata": {},
   "outputs": [
    {
     "name": "stdout",
     "output_type": "stream",
     "text": [
      "5\n",
      "5 4 3 2 1\n",
      "1 2 3 4 5\n"
     ]
    }
   ],
   "source": [
    "\n",
    "def partition (a,si,ei) :\n",
    "    pivot = a[si]\n",
    "    c = 0 \n",
    "    for i in range (si , ei+1):\n",
    "        if a[i]< pivot :\n",
    "            c+=1\n",
    "    a[si+c], a[si] = a[si], a[si+c]\n",
    "    pivot_index = si+c\n",
    "    i = si \n",
    "    j = ei \n",
    "    while i < j :\n",
    "        if a[i] < pivot :\n",
    "            i+=1\n",
    "        elif a[j] >= pivot :\n",
    "            j-=1\n",
    "        else :\n",
    "            a[i] , a[j] = a[j],a[i]\n",
    "            i+=1\n",
    "            j-=1\n",
    "    return pivot_index\n",
    "def Quick_sort(a , si ,ei):\n",
    "    if si >= ei :\n",
    "        return\n",
    "    pivor_element = partition(a,si,ei)\n",
    "    Quick_sort(a,si,pivor_element-1)\n",
    "    Quick_sort(a,pivor_element+1,ei)\n",
    "\n",
    "\n",
    "n=int(input())\n",
    "arr=list(int(i) for i in input().strip().split(' '))\n",
    "Quick_sort(arr, 0, n-1)\n",
    "print(*arr)\n"
   ]
  }
 ],
 "metadata": {
  "kernelspec": {
   "display_name": "Python 3 (ipykernel)",
   "language": "python",
   "name": "python3"
  },
  "language_info": {
   "codemirror_mode": {
    "name": "ipython",
    "version": 3
   },
   "file_extension": ".py",
   "mimetype": "text/x-python",
   "name": "python",
   "nbconvert_exporter": "python",
   "pygments_lexer": "ipython3",
   "version": "3.10.0"
  }
 },
 "nbformat": 4,
 "nbformat_minor": 5
}
