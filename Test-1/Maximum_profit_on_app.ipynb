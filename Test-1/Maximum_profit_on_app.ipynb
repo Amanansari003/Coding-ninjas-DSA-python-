{
 "cells": [
  {
   "cell_type": "code",
   "execution_count": null,
   "id": "42325f78",
   "metadata": {},
   "outputs": [],
   "source": [
    "            Maximum Profit on App\n",
    "\n",
    "\n",
    "You have made a smartphone app and want to set its subscription price such that the profit earned is maximised. There are certain users who will subscribe to your app only if their budget is greater than or equal to your price.\n",
    "You will be provided with a list of size N having budgets of subscribers and you need to return the maximum profit that you can earn.\n",
    "Lets say you decide that price of your app is Rs. x and there are N number of subscribers. So maximum profit you can earn is :\n",
    " m * x\n",
    "where m is total number of subscribers whose budget is greater than or equal to x.\n",
    "Input format :\n",
    "Line 1 : N (No. of subscribers)\n",
    "Line 2 : Budget of subscribers (separated by space)\n",
    "Output Format :\n",
    " Maximum profit\n",
    "Constraints :\n",
    "1 <= N <= 10^6\n",
    "1 <=budget[i]<=9999\n",
    "Sample Input 1 :\n",
    "4\n",
    "30 20 53 14\n",
    "Sample Output 1 :\n",
    "60"
   ]
  },
  {
   "cell_type": "code",
   "execution_count": null,
   "id": "81dbb607",
   "metadata": {},
   "outputs": [],
   "source": [
    "import sys\n",
    "sys.setrecursionlimit(10**6)\n",
    "\n",
    "def func(n,arr,si,ei,b):\n",
    "    if si>ei :\n",
    "        return b \n",
    "    else :\n",
    "        if b < n*arr[si] :\n",
    "            b = n * arr[si] \n",
    "        return func(n-1,arr,si+1,ei,b)\n",
    "n = int(input())\n",
    "arr = [int(i) for i in input().split()]\n",
    "arr.sort()\n",
    "print(func(n,arr,si = 0 ,ei = n-1, b = 0))"
   ]
  }
 ],
 "metadata": {
  "kernelspec": {
   "display_name": "Python 3 (ipykernel)",
   "language": "python",
   "name": "python3"
  },
  "language_info": {
   "codemirror_mode": {
    "name": "ipython",
    "version": 3
   },
   "file_extension": ".py",
   "mimetype": "text/x-python",
   "name": "python",
   "nbconvert_exporter": "python",
   "pygments_lexer": "ipython3",
   "version": "3.10.0"
  }
 },
 "nbformat": 4,
 "nbformat_minor": 5
}
