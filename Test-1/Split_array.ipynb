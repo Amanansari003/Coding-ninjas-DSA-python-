{
 "cells": [
  {
   "cell_type": "code",
   "execution_count": null,
   "id": "1da1aefe",
   "metadata": {},
   "outputs": [],
   "source": [
    "                Split Array\n",
    "\n",
    "\n",
    "Given an integer array A of size N, check if the input array can be splitted in two parts such that -\n",
    "- Sum of both parts is equal\n",
    "- All elements in the input, which are divisible by 5 should be in same group.\n",
    "- All elements in the input, which are divisible by 3 (but not divisible by 5) should be in other group.\n",
    "- Elements which are neither divisible by 5 nor by 3, can be put in any group.\n",
    "Groups can be made with any set of elements, i.e. elements need not to be continuous. And you need to consider each and every element of input array in some group.\n",
    "Return true, if array can be split according to the above rules, else return false.\n",
    "Note : You will get marks only if all the test cases are passed.\n",
    "Input Format :\n",
    "Line 1 : Integer N (size of array)\n",
    "Line 2 : Array A elements (separated by space)\n",
    "Output Format :\n",
    "true or false\n",
    "Constraints :\n",
    "1 <= N <= 50\n",
    "Sample Input 1 :\n",
    "2\n",
    "1 2\n",
    "Sample Output 1 :\n",
    "false"
   ]
  },
  {
   "cell_type": "code",
   "execution_count": null,
   "id": "b1990991",
   "metadata": {},
   "outputs": [],
   "source": [
    "def helper(arr, n, start, lsum, rsum):\n",
    "\tif (start == n):\n",
    "\t\treturn lsum == rsum\n",
    "\tif (arr[start] % 5 == 0):\n",
    "\t\tlsum += arr[start]\n",
    "\telif (arr[start] % 3 == 0):\n",
    "\t\trsum += arr[start]\n",
    "\telse:\n",
    "\t\treturn (helper(arr, n, start + 1,lsum + arr[start], rsum) or helper(arr, n, start + 1, lsum, rsum + arr[start]))\n",
    "\treturn helper(arr, n, start + 1, lsum, rsum)\n",
    "\n",
    "def splitArray(arr, n):\n",
    "\treturn helper(arr, n, 0, 0, 0)\n",
    "\n",
    "n = int(input())\n",
    "arr = [int(x) for x in input().split()]\n",
    "if (splitArray(arr, n)):\n",
    "    print(\"true\")\n",
    "else:\n",
    "    print(\"false\")"
   ]
  }
 ],
 "metadata": {
  "kernelspec": {
   "display_name": "Python 3 (ipykernel)",
   "language": "python",
   "name": "python3"
  },
  "language_info": {
   "codemirror_mode": {
    "name": "ipython",
    "version": 3
   },
   "file_extension": ".py",
   "mimetype": "text/x-python",
   "name": "python",
   "nbconvert_exporter": "python",
   "pygments_lexer": "ipython3",
   "version": "3.10.0"
  }
 },
 "nbformat": 4,
 "nbformat_minor": 5
}
