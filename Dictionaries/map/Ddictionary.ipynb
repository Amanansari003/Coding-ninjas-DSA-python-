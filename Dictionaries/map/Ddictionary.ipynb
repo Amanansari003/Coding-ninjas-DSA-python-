{
 "cells": [
  {
   "cell_type": "markdown",
   "metadata": {},
   "source": [
    "### printing the frequcy of the word "
   ]
  },
  {
   "cell_type": "code",
   "execution_count": 1,
   "metadata": {},
   "outputs": [
    {
     "name": "stdout",
     "output_type": "stream",
     "text": [
      "words\n",
      "many\n"
     ]
    }
   ],
   "source": [
    "def frequncyPrint(st,k):\n",
    "    li = st.split()\n",
    "    d = {}\n",
    "    for i in li :\n",
    "        d[i] = d.get(i,0)+1\n",
    "\n",
    "    for w in d :\n",
    "        if d[w] == k :\n",
    "            print(w)\n",
    "\n",
    "st = input()\n",
    "k = int(input())\n",
    "frequncyPrint(st,2) "
   ]
  },
  {
   "cell_type": "markdown",
   "metadata": {},
   "source": [
    "### printing the maximum frequency "
   ]
  },
  {
   "cell_type": "code",
   "execution_count": 17,
   "metadata": {},
   "outputs": [
    {
     "name": "stdout",
     "output_type": "stream",
     "text": [
      "1\n"
     ]
    }
   ],
   "source": [
    "def frequncyPrint(st):\n",
    "    d = {}\n",
    "    for i in st :\n",
    "        d[i] = d.get(i,0)+1\n",
    "    k = None \n",
    "    maxi = -999999\n",
    "    for w in d :\n",
    "        if maxi < d[w] :\n",
    "            k = w \n",
    "            maxi = d[w]\n",
    "    return k \n",
    "\n",
    "st = [int(i) for i in input().split()]\n",
    "value = frequncyPrint(st)\n",
    "print(value)"
   ]
  },
  {
   "cell_type": "code",
   "execution_count": 11,
   "metadata": {},
   "outputs": [
    {
     "name": "stdout",
     "output_type": "stream",
     "text": [
      "{5: 4, 2: 7, 3: 2, 4: 2}\n",
      "5\n",
      "2\n",
      "3\n",
      "4\n"
     ]
    }
   ],
   "source": [
    "l = [5,5,5,5,2,2,2,2,2,2,2,3,3,4,4]\n",
    "d = {}\n",
    "for i in l :\n",
    "    d[i] = d.get(i,0)+1\n",
    "print(d)\n",
    "for num in d:\n",
    "    print(num)"
   ]
  },
  {
   "cell_type": "code",
   "execution_count": 19,
   "metadata": {},
   "outputs": [
    {
     "data": {
      "text/plain": [
       "[500]"
      ]
     },
     "execution_count": 19,
     "metadata": {},
     "output_type": "execute_result"
    }
   ],
   "source": [
    "class A :\n",
    "    def __init__(self,name,price):\n",
    "        self.name = name \n",
    "        self.price = price\n",
    "    \n",
    "class B :\n",
    "    def __init__(self):\n",
    "        self.cart = []\n",
    "    def total(self,val):\n",
    "        self.cart.append(val.price)\n",
    "item = A(\"aman\",500)\n",
    "ob = B()\n",
    "ob.total(item)\n",
    "ob.cart  "
   ]
  },
  {
   "cell_type": "code",
   "execution_count": 4,
   "metadata": {},
   "outputs": [
    {
     "name": "stdout",
     "output_type": "stream",
     "text": [
      "{0: 4}\n"
     ]
    }
   ],
   "source": [
    "from math import factorial\n",
    "\n",
    "def nc2(n):\n",
    "    ans = 0 \n",
    "    if n!= 0 and n >= 2 :\n",
    "        ans = factorial(n)/(factorial(2)*factorial(n-2))\n",
    "    return int(ans)\n",
    "\n",
    "def pairSum0(l,n):\n",
    "    k = 0 \n",
    "    dic = {}\n",
    "    for i in l :\n",
    "        dic[i] = dic.get(i,0)+1\n",
    "    for num in dic :\n",
    "        if num == 0 :\n",
    "            k = k + nc2(dic[num])\n",
    "        elif -num in dic :\n",
    "            k = k + dic[num]*dic[-num]\n",
    "            dic [num] = 0 \n",
    "            dic[-num] = 0 \n",
    "    return k \n",
    "\n",
    "           \n",
    "\n",
    "\n",
    "n = int(input())\n",
    "arr = list(map(int,input().split()))\n",
    "pairSum0(arr,n)"
   ]
  },
  {
   "cell_type": "code",
   "execution_count": 17,
   "metadata": {},
   "outputs": [
    {
     "name": "stdout",
     "output_type": "stream",
     "text": [
      "codingjas"
     ]
    }
   ],
   "source": [
    "def uniqueChar(s): \n",
    "    l = list(s)\n",
    "    d = {}\n",
    "    for i in l :\n",
    "        d[i] = d.get(i,0)+1\n",
    "    for i in d.keys():\n",
    "        print(i,end = '')\n",
    "\n",
    "\n",
    "\n",
    "# Main \n",
    "s=input() \n",
    "uniqueChar(s)     \n"
   ]
  }
 ],
 "metadata": {
  "kernelspec": {
   "display_name": "Python 3.10.0 64-bit",
   "language": "python",
   "name": "python3"
  },
  "language_info": {
   "codemirror_mode": {
    "name": "ipython",
    "version": 3
   },
   "file_extension": ".py",
   "mimetype": "text/x-python",
   "name": "python",
   "nbconvert_exporter": "python",
   "pygments_lexer": "ipython3",
   "version": "3.10.0"
  },
  "orig_nbformat": 4,
  "vscode": {
   "interpreter": {
    "hash": "6b6bb9b73e77c7418ba4b370821ce9827db27c53033f41f9ef34f697bab06e5b"
   }
  }
 },
 "nbformat": 4,
 "nbformat_minor": 2
}
