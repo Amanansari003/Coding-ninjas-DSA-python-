{
 "cells": [
  {
   "cell_type": "markdown",
   "metadata": {},
   "source": [
    "### all the subsequnces of the string "
   ]
  },
  {
   "cell_type": "code",
   "execution_count": 5,
   "metadata": {},
   "outputs": [
    {
     "name": "stdout",
     "output_type": "stream",
     "text": [
      "['', 'c', 'b', 'bc', 'a', 'ac', 'ab', 'abc']\n"
     ]
    }
   ],
   "source": [
    "def subs(string):\n",
    "    if len(string) == 0 :\n",
    "        output = []\n",
    "        output.append(\"\")\n",
    "        return output\n",
    "    \n",
    "    smallOutput = subs(string[1:])\n",
    "    b = len(smallOutput)\n",
    "    for i in range(b) :\n",
    "        smallOutput.append(string[0]+smallOutput[i])\n",
    "    return smallOutput \n",
    "\n",
    "\n",
    "string = input()\n",
    "ans = subs(string)\n",
    "print(ans)\n",
    "\n"
   ]
  },
  {
   "cell_type": "markdown",
   "metadata": {},
   "source": [
    "### kaypad problem "
   ]
  },
  {
   "cell_type": "code",
   "execution_count": 20,
   "metadata": {},
   "outputs": [
    {
     "name": "stdout",
     "output_type": "stream",
     "text": [
      "[]\n"
     ]
    }
   ],
   "source": [
    "def getString(d):\n",
    "    if d == 2 :\n",
    "        return \"abc\"\n",
    "    if d == 3:\n",
    "        return \"def\"\n",
    "    if d == 4:\n",
    "        return \"ghi\"\n",
    "    if d == 5:\n",
    "        return \"jkl\"\n",
    "    if d == 6:\n",
    "        return \"mno\"\n",
    "    if d == 7:\n",
    "        return \"pqrs\"\n",
    "    if d == 8:\n",
    "        return \"tuv\"\n",
    "    if d == 9:\n",
    "        return \"wxyz\"\n",
    "    return \"\"\n",
    "\n",
    "def keypad(n):\n",
    "    if n == 0 :\n",
    "        output = [\"\"]\n",
    "        return output\n",
    "    \n",
    "    small_number = n//10\n",
    "    lastDigit = n%10\n",
    "    small_output = keypad(small_number)\n",
    "    optionForLastDigit = getString(lastDigit)\n",
    "    output = []\n",
    "\n",
    "    for c in small_output:\n",
    "        for ch in optionForLastDigit :\n",
    "            output.append(c+ch)\n",
    "    return output \n",
    "\n",
    "\n",
    "\n",
    "n = int(input())\n",
    "print(keypad(n))\n",
    "\n"
   ]
  },
  {
   "cell_type": "code",
   "execution_count": 21,
   "metadata": {},
   "outputs": [
    {
     "data": {
      "text/plain": [
       "(0, [])"
      ]
     },
     "execution_count": 21,
     "metadata": {},
     "output_type": "execute_result"
    }
   ],
   "source": [
    "def getString(d):\n",
    "    if d==2:\n",
    "        return \"abc\"\n",
    "    if d==3:\n",
    "        return \"def\"\n",
    "    if d==4:\n",
    "        return \"ghi\"\n",
    "    if d==5:\n",
    "        return \"jkl\"\n",
    "    if d==6:\n",
    "        return \"mno\"\n",
    "    if d==7:\n",
    "        return \"pqrs\"\n",
    "    if d==8:\n",
    "        return \"tuv\"\n",
    "    if d==9:\n",
    "        return \"wxyz\"\n",
    "    return \"\"\n",
    "\n",
    "def keypad(n):\n",
    "    if n==0:\n",
    "        output=[]\n",
    "        output.append(\"\")\n",
    "        return output\n",
    "    \n",
    "    smallerNumber=n//10\n",
    "    lastDigit=n%10\n",
    "    \n",
    "    smallerOutput=keypad(smallerNumber)\n",
    "    optionsForLastDigit=getString(lastDigit)\n",
    "    output=[]\n",
    "    \n",
    "    for s in smallerOutput:\n",
    "        for c in optionsForLastDigit:\n",
    "            option=s+c\n",
    "            output.append(option)\n",
    "    return output\n",
    "\n",
    "output=keypad(20)\n",
    "len(output),output"
   ]
  }
 ],
 "metadata": {
  "kernelspec": {
   "display_name": "Python 3.10.0 64-bit",
   "language": "python",
   "name": "python3"
  },
  "language_info": {
   "codemirror_mode": {
    "name": "ipython",
    "version": 3
   },
   "file_extension": ".py",
   "mimetype": "text/x-python",
   "name": "python",
   "nbconvert_exporter": "python",
   "pygments_lexer": "ipython3",
   "version": "3.10.0"
  },
  "orig_nbformat": 4,
  "vscode": {
   "interpreter": {
    "hash": "6b6bb9b73e77c7418ba4b370821ce9827db27c53033f41f9ef34f697bab06e5b"
   }
  }
 },
 "nbformat": 4,
 "nbformat_minor": 2
}
