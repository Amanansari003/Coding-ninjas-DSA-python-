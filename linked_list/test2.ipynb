{
 "cells": [
  {
   "cell_type": "code",
   "execution_count": 8,
   "metadata": {},
   "outputs": [
    {
     "name": "stdout",
     "output_type": "stream",
     "text": [
      "0 8 3 8 5 3 3 0 9 2 6 0 3 3 1 9 0 4 6 8 1 3 1 5 1 6 4 3 7 5 5 1 1 6 3 7 1 0 0 5 7 5 6 5 4 7 9 9 6 7 "
     ]
    }
   ],
   "source": [
    "class Node :\n",
    "    def __init__(self, data):\n",
    "        self.data = data \n",
    "        self.next = None \n",
    "\n",
    "def reversell(head):\n",
    "    if head is None or head.next is None :\n",
    "        return head \n",
    "    else :\n",
    "        small = reversell(head.next)\n",
    "        tail = head.next \n",
    "        tail.next = head \n",
    "        head.next = None\n",
    "        return small\n",
    "\n",
    "def addOne(head):\n",
    "    h = head \n",
    "    carry = 1 \n",
    "    temp = None \n",
    "    while h is not None :\n",
    "        sum = h.data+carry\n",
    "        carry = sum//10 \n",
    "        h.data = sum%10\n",
    "        temp = h\n",
    "        h = h.next \n",
    "\n",
    "\n",
    "    if carry>0:\n",
    "        newNode = Node (carry)\n",
    "        temp.next = newNode\n",
    "\n",
    "    return head\n",
    "\n",
    "\n",
    "def nextNumber(head):\n",
    "    head = reversell(head)\n",
    "    head = addOne(head)\n",
    "    head = reversell(head)\n",
    "    return head\n",
    "\n",
    "\n",
    "def takeInput():\n",
    "    inputLisst = [int(i) for i in input().split()]\n",
    "    head = None \n",
    "    tail = None \n",
    "\n",
    "    for curr in inputLisst:\n",
    "        if curr == -1 :\n",
    "            break\n",
    "        else :\n",
    "            newNode = Node(curr)\n",
    "\n",
    "        if head is None :\n",
    "            head = newNode\n",
    "        else :\n",
    "            tail.next = newNode\n",
    "        tail = newNode\n",
    "    return head\n",
    "def printLL(head):\n",
    "    while head :\n",
    "        print(head.data,end = ' ')\n",
    "        head = head.next\n",
    "head = takeInput()\n",
    "head = nextNumber(head)\n",
    "printLL(head)"
   ]
  },
  {
   "cell_type": "code",
   "execution_count": 12,
   "metadata": {},
   "outputs": [
    {
     "name": "stdout",
     "output_type": "stream",
     "text": [
      "1 2 3 4 5 \n",
      "1 3 5 \n"
     ]
    }
   ],
   "source": [
    "\n",
    "class Node :\n",
    "    def __init__(self, data) :\n",
    "        self.data = data\n",
    "        self.next = None \n",
    "        \n",
    "def deleteAlternateNodes(head):\n",
    "    if head is None or head.next is None :\n",
    "        return head \n",
    "\n",
    "    h = head \n",
    "    small = deleteAlternateNodes(head.next.next)\n",
    "    h.next = small\n",
    "    small = head \n",
    "    return small\n",
    "\n",
    "def takeInput():\n",
    "    inputLisst = [int(i) for i in input().split()]\n",
    "    head = None \n",
    "    tail = None \n",
    "\n",
    "    for curr in inputLisst:\n",
    "        if curr == -1 :\n",
    "            break\n",
    "        else :\n",
    "            newNode = Node(curr)\n",
    "\n",
    "        if head is None :\n",
    "            head = newNode\n",
    "        else :\n",
    "            tail.next = newNode\n",
    "        tail = newNode\n",
    "    return head\n",
    "\n",
    "def printLL(head):\n",
    "    while head :\n",
    "        print(head.data,end = ' ')\n",
    "        head = head.next\n",
    "    print()\n",
    "    \n",
    "head = takeInput()\n",
    "printLL(head)\n",
    "deleteAlternateNodes(head)\n",
    "printLL(head)"
   ]
  },
  {
   "cell_type": "code",
   "execution_count": 22,
   "metadata": {},
   "outputs": [
    {
     "name": "stdout",
     "output_type": "stream",
     "text": [
      "[7, 8, 9]\n"
     ]
    }
   ],
   "source": []
  }
 ],
 "metadata": {
  "kernelspec": {
   "display_name": "Python 3.10.0 64-bit",
   "language": "python",
   "name": "python3"
  },
  "language_info": {
   "codemirror_mode": {
    "name": "ipython",
    "version": 3
   },
   "file_extension": ".py",
   "mimetype": "text/x-python",
   "name": "python",
   "nbconvert_exporter": "python",
   "pygments_lexer": "ipython3",
   "version": "3.10.0"
  },
  "orig_nbformat": 4,
  "vscode": {
   "interpreter": {
    "hash": "6b6bb9b73e77c7418ba4b370821ce9827db27c53033f41f9ef34f697bab06e5b"
   }
  }
 },
 "nbformat": 4,
 "nbformat_minor": 2
}
