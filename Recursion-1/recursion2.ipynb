{
 "cells": [
  {
   "cell_type": "markdown",
   "metadata": {},
   "source": [
    "replace all occurance of the cheracter from the given element \n"
   ]
  },
  {
   "cell_type": "code",
   "execution_count": 6,
   "metadata": {},
   "outputs": [
    {
     "name": "stdout",
     "output_type": "stream",
     "text": [
      "\n"
     ]
    }
   ],
   "source": [
    "def repl(s,a,b):\n",
    "    if len(s) == 0 :\n",
    "        return s\n",
    "    if s[0] == a :\n",
    "        return b + repl(s[1:],a,b)\n",
    "    else :\n",
    "        return s[0] + repl(s[1:],a,b)\n",
    "s = input()\n",
    "a = input()\n",
    "b = input()\n",
    "print(repl(s,a,b))"
   ]
  },
  {
   "cell_type": "markdown",
   "metadata": {},
   "source": [
    "remove the value x from the string "
   ]
  },
  {
   "cell_type": "code",
   "execution_count": 7,
   "metadata": {},
   "outputs": [
    {
     "name": "stdout",
     "output_type": "stream",
     "text": [
      "\n"
     ]
    }
   ],
   "source": [
    "def removeX(string): \n",
    "    if len(string) == 0 :\n",
    "        return string \n",
    "    if string[0] == \"x\" :\n",
    "        return removeX(string[1:])\n",
    "    else :\n",
    "        return string[0] + removeX(string[1:])\n",
    "\n",
    "# Main\n",
    "string = input()\n",
    "print(removeX(string))"
   ]
  },
  {
   "cell_type": "markdown",
   "metadata": {},
   "source": [
    "replace pi with the 3.14 in a string "
   ]
  },
  {
   "cell_type": "code",
   "execution_count": 8,
   "metadata": {},
   "outputs": [
    {
     "name": "stdout",
     "output_type": "stream",
     "text": [
      "3\n"
     ]
    }
   ],
   "source": [
    "def rep(s):\n",
    "    if len(s) == 0 or len(s) == 1 :\n",
    "        return s \n",
    "    if s[0] == 'p' and s[1] == 'i' :\n",
    "        return '3.14' + rep(s[2:])\n",
    "    else :\n",
    "        return s[0] + rep(s[1:])\n",
    "\n",
    "s = input()\n",
    "print(rep(s))\n"
   ]
  },
  {
   "cell_type": "markdown",
   "metadata": {},
   "source": [
    "remove all occurence of the charecter "
   ]
  },
  {
   "cell_type": "code",
   "execution_count": 9,
   "metadata": {},
   "outputs": [
    {
     "name": "stdout",
     "output_type": "stream",
     "text": [
      "3\\3\\\n"
     ]
    }
   ],
   "source": [
    "def remove_occurence(s):\n",
    "    if len(s) == 0 or len(s) == 1 :\n",
    "        return s\n",
    "    if s[0] == s[1] :\n",
    "        return remove_occurence(s[1:])\n",
    "    else :\n",
    "        return   s[0] + remove_occurence(s[1:])\n",
    "s = input()\n",
    "print(remove_occurence(s))\n",
    "    "
   ]
  },
  {
   "cell_type": "markdown",
   "metadata": {},
   "source": [
    "### recursive fucntion for binary search \n"
   ]
  },
  {
   "cell_type": "code",
   "execution_count": null,
   "metadata": {},
   "outputs": [],
   "source": [
    "def binary_search(arr,x,si,ei):\n",
    "    if si > ei :\n",
    "        return -1                                               ## is uses len - 1 \n",
    "    mid = (si+ei)//2\n",
    "    if arr[mid] == x :\n",
    "        return mid\n",
    "    elif arr[mid] > x :                                             \n",
    "        return binary_search(arr,x,si,mid-1)    \n",
    "    else :\n",
    "        return binary_search(arr,x,mid+1,ei)\n",
    "\n",
    "n = [int(i) for i in input().split()]\n",
    "x = int(input())\n",
    "si = 0 \n",
    "ei = len(n)\n",
    "print(binary_search(n,x,si,ei))\n"
   ]
  },
  {
   "cell_type": "markdown",
   "metadata": {},
   "source": [
    "alternate without len -1"
   ]
  },
  {
   "cell_type": "code",
   "execution_count": null,
   "metadata": {},
   "outputs": [],
   "source": [
    "def binary_search(arr,x,si,ei):\n",
    "    if si == ei :\n",
    "        return -1\n",
    "    if si < ei :                                                    ### it does't used len-1 \n",
    "        mid = (si+ei)//2\n",
    "        if arr[mid] == x :\n",
    "            return mid\n",
    "        elif arr[mid] > x :\n",
    "            return binary_search(arr,x,si,mid-1)\n",
    "        else :\n",
    "            return binary_search(arr,x,mid+1,ei)\n",
    "\n",
    "n = [int(i) for i in input().split()]\n",
    "x = int(input())\n",
    "si = 0 \n",
    "ei = len(n)\n",
    "print(binary_search(n,x,si,ei))"
   ]
  },
  {
   "cell_type": "markdown",
   "metadata": {},
   "source": [
    "### merge sort recursive funtion "
   ]
  },
  {
   "cell_type": "code",
   "execution_count": 1,
   "metadata": {},
   "outputs": [
    {
     "name": "stdout",
     "output_type": "stream",
     "text": [
      "[6]\n"
     ]
    }
   ],
   "source": [
    "# MergeSort in Python\n",
    "\n",
    "\n",
    "def mergeSort(array):\n",
    "    if len(array) > 1:\n",
    "        r = len(array)//2\n",
    "        L = array[:r]\n",
    "        M = array[r:]\n",
    "\n",
    "        mergeSort(L)\n",
    "        mergeSort(M)\n",
    "        sorted(L,M,array)\n",
    "\n",
    "def sorted(L,M,array) :\n",
    "\n",
    "    i = j = k = 0\n",
    "    while i < len(L) and j < len(M):\n",
    "        if L[i] < M[j]:\n",
    "            array[k] = L[i]\n",
    "            i += 1\n",
    "        else:\n",
    "            array[k] = M[j]\n",
    "            j += 1\n",
    "        k += 1\n",
    "    while i < len(L):\n",
    "        array[k] = L[i]\n",
    "        i += 1\n",
    "        k += 1\n",
    "\n",
    "    while j < len(M):\n",
    "        array[k] = M[j]\n",
    "        j += 1\n",
    "        k += 1\n",
    "# def printList(array):\n",
    "#     for i in range(len(array)):\n",
    "#         print(array[i], end=\" \")\n",
    "#     print()\n",
    "\n",
    "\n",
    "# Driver program\n",
    "if __name__ == '__main__':\n",
    "    array = [6, 5, 12, 10, 9, 1]\n",
    "\n",
    "    mergeSort(array)\n",
    "    print( array)\n",
    "\n",
    "    # print(\"Sorted array is: \")\n",
    "    # printList(array)"
   ]
  },
  {
   "cell_type": "code",
   "execution_count": 1,
   "metadata": {},
   "outputs": [
    {
     "name": "stdout",
     "output_type": "stream",
     "text": [
      "[1, 2, 4, 4, 5, 7]\n"
     ]
    }
   ],
   "source": [
    "def mergeSort(array):\n",
    "    if len(array) > 1:\n",
    "        r = len(array)//2\n",
    "        L = array[:r]\n",
    "        M = array[r:]\n",
    "\n",
    "        mergeSort(L)\n",
    "        mergeSort(M)\n",
    "        sorted(L,M,array)\n",
    "\n",
    "def sorted(L,M,array) :\n",
    "\n",
    "    i = j = k = 0\n",
    "    while i < len(L) and j < len(M):\n",
    "        if L[i] < M[j]:\n",
    "            array[k] = L[i]\n",
    "            i += 1\n",
    "        else:\n",
    "            array[k] = M[j]\n",
    "            j += 1\n",
    "        k += 1\n",
    "    while i < len(L):\n",
    "        array[k] = L[i]\n",
    "        i += 1\n",
    "        k += 1\n",
    "\n",
    "    while j < len(M):\n",
    "        array[k] = M[j]\n",
    "        j += 1\n",
    "        k += 1\n",
    "if __name__ == '__main__':\n",
    "    n = int(input())\n",
    "    array = [int(i) for i in input().split()]\n",
    "\n",
    "    mergeSort(array)\n",
    "    print( array)"
   ]
  },
  {
   "cell_type": "markdown",
   "metadata": {},
   "source": [
    "### quick sorting "
   ]
  },
  {
   "cell_type": "code",
   "execution_count": 14,
   "metadata": {},
   "outputs": [
    {
     "name": "stdout",
     "output_type": "stream",
     "text": [
      "[1, 2, 3, 4, 5, 6, 7, 8, 9]\n"
     ]
    }
   ],
   "source": [
    "def partition (a,si,ei) :\n",
    "    pivot = a[si]\n",
    "    c = 0 \n",
    "    for i in range (si , ei+1):\n",
    "        if a[i]< pivot :\n",
    "            c+=1\n",
    "    a[si+c], a[si] = a[si], a[si+c]\n",
    "    pivot_index = si+c\n",
    "    i = si \n",
    "    j = ei \n",
    "    while i < j :\n",
    "        if a[i] < pivot :\n",
    "            i+=1\n",
    "        elif a[j] >= pivot :\n",
    "            j-=1\n",
    "        else :\n",
    "            a[i] , a[j] = a[j],a[i]\n",
    "            i+=1\n",
    "            j-=1\n",
    "    return pivot_index\n",
    "def Quick_sort(a , si ,ei):\n",
    "    if si >= ei :\n",
    "        return\n",
    "    pivor_element = partition(a,si,ei)\n",
    "    Quick_sort(a,si,pivor_element-1)\n",
    "    Quick_sort(a,pivor_element+1,ei)\n",
    "\n",
    "\n",
    "a = [9,8,7,6,5,4,3,2,1]\n",
    "ei = len(a)-1\n",
    "Quick_sort(a,0,ei)\n",
    "print(a)\n",
    "\n"
   ]
  },
  {
   "cell_type": "code",
   "execution_count": 4,
   "metadata": {},
   "outputs": [
    {
     "name": "stdout",
     "output_type": "stream",
     "text": [
      "[1, 2, 3, 4, 5, 6, 9]\n"
     ]
    }
   ],
   "source": [
    "def partition(a,si,ei):\n",
    "    pivot=a[si]\n",
    "    #find number of elements smaller than pivot\n",
    "    c=0\n",
    "    for i in range(si,ei+1):\n",
    "        if a[i]<pivot:\n",
    "            c=c+1\n",
    "    a[si+c],a[si]=a[si],a[si+c]\n",
    "    pivot_index=si+c\n",
    "    \n",
    "    i=si\n",
    "    j=ei\n",
    "    while i<j:\n",
    "        if a[i]<pivot:\n",
    "            i=i+1\n",
    "        elif a[j]>=pivot:\n",
    "            j=j-1\n",
    "        else:\n",
    "            a[i],a[j]=a[j],a[i]\n",
    "            i=i+1\n",
    "            j=j-1\n",
    "    return pivot_index\n",
    "\n",
    "def quick_sort(a,si,ei):\n",
    "    if si>=ei:\n",
    "        return\n",
    "    \n",
    "    pivot_index=partition(a,si,ei)\n",
    "    quick_sort(a,si,pivot_index-1)\n",
    "    quick_sort(a,pivot_index+1,ei)\n",
    "\n",
    "# a=[6,10,9,8,7,1,3,5,4,2]\n",
    "# print(partition(a,0,len(a)-1))\n",
    "\n",
    "\n",
    "a= [4,1,2,6,9,3,5]\n",
    "quick_sort(a,0,len(a)-1)\n",
    "print(a)"
   ]
  },
  {
   "cell_type": "markdown",
   "metadata": {},
   "source": [
    "### towre of hanoi "
   ]
  },
  {
   "cell_type": "code",
   "execution_count": 10,
   "metadata": {},
   "outputs": [
    {
     "name": "stdout",
     "output_type": "stream",
     "text": [
      "move 1st disk from s h\n",
      "mmoved 2 disk from s d\n",
      "move 1st disk from h s\n",
      "mmoved 3 disk from s h\n",
      "move 1st disk from d h\n",
      "mmoved 2 disk from d s\n",
      "move 1st disk from h d\n",
      "mmoved 4 disk from s d\n",
      "move 1st disk from h s\n",
      "mmoved 2 disk from h d\n",
      "move 1st disk from s h\n",
      "mmoved 3 disk from h s\n",
      "move 1st disk from d s\n",
      "mmoved 2 disk from d h\n",
      "move 1st disk from s d\n"
     ]
    }
   ],
   "source": [
    "def tower_hanoi(n,a,b,c) :\n",
    "    if n == 1 :\n",
    "        print('move 1st disk from', a, c)\n",
    "        return\n",
    "    tower_hanoi(n-1,a,c,b)\n",
    "    print('mmoved',n,'disk from',a,c)\n",
    "    tower_hanoi(n-1,b,c,a)\n",
    "\n",
    "n = int(input())\n",
    "tower_hanoi(n,\"s\",\"h\",'d')\n"
   ]
  },
  {
   "cell_type": "code",
   "execution_count": null,
   "metadata": {},
   "outputs": [
    {
     "ename": "",
     "evalue": "",
     "output_type": "error",
     "traceback": [
      "\u001b[1;31mThe file 'DSA\\random.py' seems to be overriding built in modules and interfering with the startup of the kernel. Consider renaming the file and starting the kernel again..\n",
      "Click <a href='https://aka.ms/kernelFailuresOverridingBuiltInModules'>here</a> for more info."
     ]
    }
   ],
   "source": [
    "def tower_hanoi(n,a,b,c) :\n",
    "    if n == 1 :\n",
    "        print(a, c)\n",
    "        return\n",
    "    tower_hanoi(n-1,a,c,b)\n",
    "    print(a,c)\n",
    "    tower_hanoi(n-1,b,c,a)\n",
    "\n",
    "\n",
    "n=int(input())\n",
    "tower_hanoi(n, 'a', 'b', 'c')"
   ]
  }
 ],
 "metadata": {
  "kernelspec": {
   "display_name": "Python 3.10.0 64-bit",
   "language": "python",
   "name": "python3"
  },
  "language_info": {
   "codemirror_mode": {
    "name": "ipython",
    "version": 3
   },
   "file_extension": ".py",
   "mimetype": "text/x-python",
   "name": "python",
   "nbconvert_exporter": "python",
   "pygments_lexer": "ipython3",
   "version": "3.10.0"
  },
  "orig_nbformat": 4,
  "vscode": {
   "interpreter": {
    "hash": "6b6bb9b73e77c7418ba4b370821ce9827db27c53033f41f9ef34f697bab06e5b"
   }
  }
 },
 "nbformat": 4,
 "nbformat_minor": 2
}
