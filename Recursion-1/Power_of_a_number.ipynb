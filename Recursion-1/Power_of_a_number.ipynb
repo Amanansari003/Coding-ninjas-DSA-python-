{
 "cells": [
  {
   "cell_type": "code",
   "execution_count": null,
   "id": "8021f848",
   "metadata": {},
   "outputs": [],
   "source": [
    "Power Of A Number :\n",
    "    \n",
    "    \n",
    "Write a program to find x to the power n (i.e. x^n). Take x and n from the user. You need to print the answer.\n",
    "Note : For this question, you can assume that 0 raised to the power of 0 is 1\n",
    "\n",
    "\n",
    "Input format :\n",
    "Two integers x and n (separated by space)\n",
    "Output Format :\n",
    "x^n (i.e. x raise to the power n)\n",
    "Constraints:\n",
    "0 <= x <= 8 \n",
    "0 <= n <= 9\n",
    "\n",
    "Sample Input 1 :\n",
    " 3 4\n",
    "Sample Output 1 :\n",
    "81"
   ]
  },
  {
   "cell_type": "code",
   "execution_count": 1,
   "id": "f2bc9ef9",
   "metadata": {},
   "outputs": [
    {
     "name": "stdout",
     "output_type": "stream",
     "text": [
      "2 5\n",
      "32\n"
     ]
    }
   ],
   "source": [
    "def po(a,b):\n",
    "    if b == 0 :\n",
    "        return 1\n",
    "    else :\n",
    "        return a * po(a,b-1)\n",
    "\t\n",
    "\n",
    "a, b = input().split()\n",
    "a = int(a)\n",
    "b = int(b)\n",
    "print(po(a,b))"
   ]
  }
 ],
 "metadata": {
  "kernelspec": {
   "display_name": "Python 3 (ipykernel)",
   "language": "python",
   "name": "python3"
  },
  "language_info": {
   "codemirror_mode": {
    "name": "ipython",
    "version": 3
   },
   "file_extension": ".py",
   "mimetype": "text/x-python",
   "name": "python",
   "nbconvert_exporter": "python",
   "pygments_lexer": "ipython3",
   "version": "3.10.0"
  }
 },
 "nbformat": 4,
 "nbformat_minor": 5
}
