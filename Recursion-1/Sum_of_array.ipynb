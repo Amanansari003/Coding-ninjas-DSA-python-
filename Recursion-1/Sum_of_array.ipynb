{
 "cells": [
  {
   "cell_type": "code",
   "execution_count": null,
   "id": "dfe1c2c7",
   "metadata": {},
   "outputs": [],
   "source": [
    "Sum Of Array:\n",
    "    \n",
    "    \n",
    "Given an array of length N, you need to find and return the sum of all elements of the array.\n",
    "Do this recursively.\n",
    "Input Format :\n",
    "Line 1 : An Integer N i.e. size of array\n",
    "Line 2 : N integers which are elements of the array, separated by spaces\n",
    "Output Format :\n",
    "Sum\n",
    "Constraints :\n",
    "1 <= N <= 10^3\n",
    "Sample Input 1 :\n",
    "3\n",
    "9 8 9\n",
    "Sample Output 1 :\n",
    "26"
   ]
  },
  {
   "cell_type": "code",
   "execution_count": 1,
   "id": "18570307",
   "metadata": {},
   "outputs": [
    {
     "name": "stdout",
     "output_type": "stream",
     "text": [
      "3\n",
      "9 8 9\n",
      "26\n"
     ]
    }
   ],
   "source": [
    "def sumArray( arr):\n",
    "    if len(arr) == 0 :\n",
    "        return 0 \n",
    "    else :\n",
    "        return arr[0] + sumArray(arr[1:])\n",
    "\n",
    "n = int( input())\n",
    "arr = [ int(i) for i in input().split()]\n",
    "print(sumArray(arr))\n"
   ]
  }
 ],
 "metadata": {
  "kernelspec": {
   "display_name": "Python 3 (ipykernel)",
   "language": "python",
   "name": "python3"
  },
  "language_info": {
   "codemirror_mode": {
    "name": "ipython",
    "version": 3
   },
   "file_extension": ".py",
   "mimetype": "text/x-python",
   "name": "python",
   "nbconvert_exporter": "python",
   "pygments_lexer": "ipython3",
   "version": "3.10.0"
  }
 },
 "nbformat": 4,
 "nbformat_minor": 5
}
