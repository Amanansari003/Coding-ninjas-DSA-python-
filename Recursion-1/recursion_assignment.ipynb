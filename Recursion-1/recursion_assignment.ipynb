{
 "cells": [
  {
   "cell_type": "markdown",
   "metadata": {},
   "source": [
    "### geomatrinc sum "
   ]
  },
  {
   "cell_type": "code",
   "execution_count": 11,
   "metadata": {},
   "outputs": [
    {
     "name": "stdout",
     "output_type": "stream",
     "text": [
      "1.87500\n"
     ]
    }
   ],
   "source": [
    "def geoSum(k,n,sum):\n",
    "    if n > k :\n",
    "        return sum\n",
    "    sum += 1/(2**n)\n",
    "    return geoSum(k,n+1,sum)\n",
    "\n",
    "\n",
    "k = int( input())\n",
    "value  = geoSum(k,n= 0,sum = 0)\n",
    "print(format(value,\".5f\"))"
   ]
  },
  {
   "cell_type": "markdown",
   "metadata": {},
   "source": [
    "### alternate way\n"
   ]
  },
  {
   "cell_type": "code",
   "execution_count": 15,
   "metadata": {},
   "outputs": [
    {
     "name": "stdout",
     "output_type": "stream",
     "text": [
      "1.87500\n"
     ]
    }
   ],
   "source": [
    "def geoSum(k,sum):\n",
    "    if k < 0  :\n",
    "        return sum\n",
    "    sum += 1/(2**k)\n",
    "    return geoSum(k-1,sum)\n",
    "\n",
    "\n",
    "k = int( input())\n",
    "value  = geoSum(k,sum = 0)\n",
    "print(format(value,\".5f\"))\n",
    "\n"
   ]
  },
  {
   "cell_type": "markdown",
   "metadata": {},
   "source": [
    "### checking palindrom string by recursion "
   ]
  },
  {
   "cell_type": "code",
   "execution_count": 17,
   "metadata": {},
   "outputs": [
    {
     "name": "stdout",
     "output_type": "stream",
     "text": [
      "dcba\n"
     ]
    }
   ],
   "source": [
    "def chk(strings,l,n):\n",
    "    if n > l :\n",
    "        return ''\n",
    "    return strings[-n]+chk(strings,l,n+1)               # *****--- reverse the whole string than compare     #\n",
    "strings = input()                                           # so the time complexitry will be O(n) in best case and worst case\n",
    "value = chk(strings, len(strings),n = 1)\n",
    "if value == strings :\n",
    "    print('true')\n",
    "else :\n",
    "    print('false')"
   ]
  },
  {
   "cell_type": "markdown",
   "metadata": {},
   "source": [
    "alternate solution "
   ]
  },
  {
   "cell_type": "code",
   "execution_count": 21,
   "metadata": {},
   "outputs": [
    {
     "name": "stdout",
     "output_type": "stream",
     "text": [
      "true\n"
     ]
    }
   ],
   "source": [
    "def chk1(st,si,ei):\n",
    "    if si == ei :\n",
    "        return True\n",
    "    if st[si] != st[ei] :\n",
    "        return False \n",
    "    if si  < ei+1 :                                  # *****--- compare the first and last element till si and ei cross earch other \n",
    "        return chk1(st,si+1,ei-1)                      # --- time complesxy in best case is O(1) in worst case that is O(n)\n",
    "    return True \n",
    "def chk (st,n) :\n",
    "    if n == 0 :\n",
    "        return True\n",
    "    return chk1(st,0,n-1)\n",
    "\n",
    "\n",
    "strings = input()\n",
    "n = len(strings)\n",
    "value = chk(strings,n)\n",
    "if value :\n",
    "    print(\"true\")\n",
    "else :\n",
    "    print(\"false\")"
   ]
  },
  {
   "cell_type": "markdown",
   "metadata": {},
   "source": [
    "#### sum of the number using recursion "
   ]
  },
  {
   "cell_type": "code",
   "execution_count": 25,
   "metadata": {},
   "outputs": [
    {
     "name": "stdout",
     "output_type": "stream",
     "text": [
      "12\n"
     ]
    }
   ],
   "source": [
    "def numSum(num) :\n",
    "    if len(str(num)) == 1 :\n",
    "        return num \n",
    "    else :\n",
    "        last_digi = num %10 \n",
    "        num = num//10 \n",
    "        return last_digi+numSum(num)\n",
    "\n",
    "\n",
    "num  = int(input())\n",
    "print(numSum(num))"
   ]
  },
  {
   "cell_type": "markdown",
   "metadata": {},
   "source": [
    "### multiplication of digits using recursion "
   ]
  },
  {
   "cell_type": "code",
   "execution_count": 35,
   "metadata": {},
   "outputs": [
    {
     "name": "stdout",
     "output_type": "stream",
     "text": [
      "0\n"
     ]
    }
   ],
   "source": [
    "def multi(n,m):\n",
    "    if n == 0 or m == 0 :\n",
    "        return 0\n",
    "    if m == 1 :\n",
    "        return n \n",
    "    return n + multi(n,m-1)\n",
    "\n",
    "n = int( input())\n",
    "m = int( input())\n",
    "print(multi(n,m))"
   ]
  },
  {
   "cell_type": "markdown",
   "metadata": {},
   "source": [
    "alternate "
   ]
  },
  {
   "cell_type": "code",
   "execution_count": 32,
   "metadata": {},
   "outputs": [
    {
     "name": "stdout",
     "output_type": "stream",
     "text": [
      "0\n"
     ]
    }
   ],
   "source": [
    "def multi(n,m):\n",
    "    if m == 0 :\n",
    "        return 0\n",
    "    a = n + multi(n,m-1) \n",
    "    return a\n",
    "\n",
    "n = int( input())\n",
    "m = int( input())\n",
    "print(multi(n,m))"
   ]
  },
  {
   "cell_type": "markdown",
   "metadata": {},
   "source": [
    "### count zeros "
   ]
  },
  {
   "cell_type": "code",
   "execution_count": 40,
   "metadata": {},
   "outputs": [
    {
     "name": "stdout",
     "output_type": "stream",
     "text": [
      "0\n"
     ]
    }
   ],
   "source": [
    "def countZeros(num,c) :\n",
    "    if len(str(num)) == 1 :\n",
    "        if num == 0 :\n",
    "            return c+1\n",
    "        else :\n",
    "            return c \n",
    "    else :\n",
    "        last_digit = num % 10 \n",
    "        num = num//10\n",
    "        if last_digit == 0 :\n",
    "            return c+1+countZeros(num,c)\n",
    "        else :\n",
    "            return c+countZeros(num,c)\n",
    "\n",
    "\n",
    "n = int(input())\n",
    "\n",
    "print(countZeros(n,0))"
   ]
  },
  {
   "cell_type": "markdown",
   "metadata": {},
   "source": [
    "### string to integer value conversion by using the recursion "
   ]
  },
  {
   "cell_type": "code",
   "execution_count": 18,
   "metadata": {},
   "outputs": [
    {
     "name": "stdout",
     "output_type": "stream",
     "text": [
      "0\n",
      "<class 'int'>\n"
     ]
    }
   ],
   "source": [
    "def chk1(st,si,ei):\n",
    "    if si == ei :\n",
    "        return int(si)\n",
    "                      # --- time complesxy in best case is O(1) in worst case that is O(n)\n",
    "    return chk1(st,si,ei-1)*10+int(st[ei-1])\n",
    "def chk (st,n) :\n",
    "    if n == 0 :\n",
    "        return ''\n",
    "    return chk1(st,0,n)\n",
    "\n",
    "\n",
    "strings = input()\n",
    "n = len(strings)\n",
    "value = chk(strings,n)\n",
    "print(value)\n",
    "print(type(value))"
   ]
  },
  {
   "cell_type": "code",
   "execution_count": 1,
   "metadata": {},
   "outputs": [
    {
     "name": "stdout",
     "output_type": "stream",
     "text": [
      "Wolleh Dlrow\n"
     ]
    }
   ],
   "source": [
    "def reverseEachWord(string) :\n",
    "    b = string.split ()\n",
    "    for i in range (len(b)):\n",
    "        str = ''\n",
    "        a = b[i]\n",
    "        for j in a :\n",
    "            str = j+str\n",
    "        b[i] = str.capitalize()\n",
    "    s = ' '\n",
    "    s = s.join(b)\n",
    "    return s\n",
    "\n",
    "\n",
    "string = input()\n",
    "value = reverseEachWord(string)\n",
    "print(value)\n"
   ]
  },
  {
   "cell_type": "code",
   "execution_count": 2,
   "metadata": {},
   "outputs": [
    {
     "name": "stdout",
     "output_type": "stream",
     "text": [
      "3\n"
     ]
    }
   ],
   "source": [
    "def inver(arr,n):\n",
    "    count = 0 \n",
    "    for i in range(n):\n",
    "        for j in range (i+1,n):\n",
    "            if arr[i]>arr[j] :\n",
    "                count+=1\n",
    "    return count\n",
    "\n",
    "n = int(input())\n",
    "arr = [int(i) for i in input().split()[:n]]\n",
    "m = len(arr)\n",
    "print(inver(arr,n))\n",
    "\n"
   ]
  },
  {
   "cell_type": "code",
   "execution_count": 5,
   "metadata": {},
   "outputs": [
    {
     "name": "stdout",
     "output_type": "stream",
     "text": [
      "3\n"
     ]
    }
   ],
   "source": [
    "n = input()\n",
    "if \"../\" in n :\n",
    "    print(1)\n",
    "elif \"./\" in n :\n",
    "    print(2)\n",
    "else:\n",
    "    print(3)"
   ]
  },
  {
   "cell_type": "code",
   "execution_count": 6,
   "metadata": {},
   "outputs": [
    {
     "name": "stdout",
     "output_type": "stream",
     "text": [
      "8\n"
     ]
    }
   ],
   "source": [
    "def minsubarraysum(input1, input2):\n",
    "        min_sum = 9999999999999\n",
    "        curr_sum = 0\n",
    "        for i in range(0, input1):\n",
    "            curr_sum = curr_sum + input2[i]\n",
    "            if curr_sum < min_sum:\n",
    "                min_sum = curr_sum\n",
    "            if curr_sum > 0:\n",
    "                curr_sum  = 0\n",
    "        s = sum(arr)\n",
    "        ans = s + min_sum*(-2)\n",
    "        return ans\n",
    "    \n",
    "\n",
    "n = int(input())\n",
    "arr = list(map(int, input().split(\" \")))\n",
    "print(minsubarraysum(n,arr))"
   ]
  },
  {
   "cell_type": "code",
   "execution_count": 8,
   "metadata": {},
   "outputs": [
    {
     "name": "stdout",
     "output_type": "stream",
     "text": [
      "2387\n"
     ]
    }
   ],
   "source": [
    "def apple(input1,input2):\n",
    "    sum = 0 \n",
    "    ans2 = 0\n",
    "    for i in input2 :\n",
    "        sum+=i\n",
    "    ans = sum//input1\n",
    "    for j in input2 :\n",
    "        if j > ans :\n",
    "            ans2+=j-ans\n",
    "    return ans2\n",
    "n = int( input( ))\n",
    "arr = [int(i) for i in input().split()[:n]]\n",
    "value = apple(n , arr)\n",
    "print(value)"
   ]
  },
  {
   "cell_type": "markdown",
   "metadata": {},
   "source": [
    "### pair stars "
   ]
  },
  {
   "cell_type": "code",
   "execution_count": 16,
   "metadata": {},
   "outputs": [
    {
     "name": "stdout",
     "output_type": "stream",
     "text": [
      "a*a*a*a*a\n"
     ]
    }
   ],
   "source": [
    "def star(stri, si , ei) :\n",
    "    if si == ei :\n",
    "        if si!=0 :\n",
    "            if stri[si-1] == stri[si]:\n",
    "                return \"*\"+ stri[si]\n",
    "            else :\n",
    "                return stri[si]\n",
    "        else :\n",
    "            return stri\n",
    "    else :\n",
    "        if si == 0 :\n",
    "            return stri[si]+star(stri,si+1,ei)\n",
    "        else :\n",
    "            if stri[si-1] == stri[si] :\n",
    "                return \"*\"+stri[si]+star(stri,si+1,ei)\n",
    "            else :\n",
    "                return stri[si]+star(stri,si+1,ei)\n",
    "\n",
    "n = input()\n",
    "print(star(n,0,len(n)-1))"
   ]
  },
  {
   "cell_type": "markdown",
   "metadata": {},
   "source": [
    "# optimized"
   ]
  },
  {
   "cell_type": "code",
   "execution_count": null,
   "metadata": {},
   "outputs": [],
   "source": [
    "def star(stri, si , ei) :\n",
    "    if si == ei :\n",
    "        if si!=0 and stri[si-1] == stri[si] :\n",
    "            return \"*\"+ stri[si]\n",
    "        else :\n",
    "            return stri[si]\n",
    "\n",
    "    else :\n",
    "        if si == 0 :\n",
    "            return stri[si]+star(stri,si+1,ei)\n",
    "        else :\n",
    "            if stri[si-1] == stri[si] :\n",
    "                return \"*\"+stri[si]+star(stri,si+1,ei)\n",
    "            else :\n",
    "                return stri[si]+star(stri,si+1,ei)\n",
    "\n",
    "n = input()\n",
    "print(star(n,0,len(n)-1))"
   ]
  },
  {
   "cell_type": "code",
   "execution_count": null,
   "metadata": {},
   "outputs": [],
   "source": [
    "def func(n):\n",
    "    l=len(n)\n",
    "    if l==1:\n",
    "        return n[0]\n",
    "    y=func(n[1:])\n",
    "    if n[0]==y[0]:\n",
    "        return n[0]+\"*\"+y\n",
    "    else:\n",
    "        return n[0]+y\n",
    "\n",
    "n = input()\n",
    "print(func(n))"
   ]
  },
  {
   "cell_type": "markdown",
   "metadata": {},
   "source": [
    "### check AB\n"
   ]
  },
  {
   "cell_type": "code",
   "execution_count": null,
   "metadata": {},
   "outputs": [],
   "source": [
    "def abb(s, flag, bflag):\n",
    "  if len(s) == 0:\n",
    "    return flag\n",
    "\n",
    "  elif s[0] == \"a\":\n",
    "    flag = True\n",
    "    bflag = False\n",
    "    return abb(s[1:], flag, bflag)\n",
    "\n",
    "  elif s[0] == 'b' and s[1] == 'b':\n",
    "    if bflag == True:\n",
    "      return False\n",
    "    else:\n",
    "      bflag = True\n",
    "      return abb(s[2:], flag, bflag)\n",
    "  \n",
    "  else:\n",
    "    return False\n",
    "\n",
    "\n",
    "\n",
    "s = input()\n",
    "flag = True\n",
    "bflag = False\n",
    "if s[0] == \"a\":\n",
    "  x = abb(s, flag, bflag)\n",
    "else:\n",
    "  x = 0\n",
    "if x:\n",
    "  print(\"true\")\n",
    "else:\n",
    "  print(\"false\")"
   ]
  },
  {
   "cell_type": "markdown",
   "metadata": {},
   "source": [
    "### staircase "
   ]
  },
  {
   "cell_type": "code",
   "execution_count": 4,
   "metadata": {},
   "outputs": [
    {
     "name": "stdout",
     "output_type": "stream",
     "text": [
      "1\n"
     ]
    }
   ],
   "source": [
    "def stair(n):\n",
    "    if n == 0 :\n",
    "        return 1\n",
    "    elif n == 1 :\n",
    "        return 1\n",
    "    elif n == 2 :\n",
    "        return 2 \n",
    "    elif n == 3 :\n",
    "        return 4\n",
    "    return stair(n-1) + stair(n-2) +stair (n-3)\n",
    "\n",
    "n = int(input())\n",
    "print(stair(n))"
   ]
  },
  {
   "cell_type": "code",
   "execution_count": 11,
   "metadata": {},
   "outputs": [
    {
     "name": "stdout",
     "output_type": "stream",
     "text": [
      "-1 -1\n"
     ]
    }
   ],
   "source": [
    "def twoSum(arr, target, n):\n",
    "    ans = []\n",
    "    Flag = False\n",
    "    for i in range (len(arr)) :\n",
    "        for j in range (i+1,len(arr)) :\n",
    "            p = arr[i]+arr[j]\n",
    "            if target == p :\n",
    "                print(arr[i],arr[j])\n",
    "                Flag = True\n",
    "                break\n",
    "    if Flag == False :\n",
    "        print(-1,-1)\n",
    "        \n",
    "                \n",
    "\n",
    "def takeInput() :\n",
    "\n",
    "    n, tar = map(int, input().strip().split(\" \"))\n",
    "    arr = list(map(int, input().strip().split(\" \")))\n",
    "    return n, tar, arr\n",
    "\n",
    "\n",
    "\n",
    "t = int(input().strip())\n",
    "for i in range(t) :\n",
    "\n",
    "    n, target, arr = takeInput()\n",
    "\n",
    "    twoSum(arr, target, n)\n",
    "    "
   ]
  },
  {
   "cell_type": "code",
   "execution_count": 15,
   "metadata": {},
   "outputs": [
    {
     "ename": "AttributeError",
     "evalue": "'Student' object has no attribute 'age'",
     "output_type": "error",
     "traceback": [
      "\u001b[1;31m---------------------------------------------------------------------------\u001b[0m",
      "\u001b[1;31mAttributeError\u001b[0m                            Traceback (most recent call last)",
      "\u001b[1;32m~\\AppData\\Local\\Temp/ipykernel_15308/4180181577.py\u001b[0m in \u001b[0;36m<module>\u001b[1;34m\u001b[0m\n\u001b[0;32m      8\u001b[0m \u001b[0ms\u001b[0m\u001b[1;33m.\u001b[0m\u001b[0mstore_details\u001b[0m\u001b[1;33m(\u001b[0m\u001b[1;33m)\u001b[0m\u001b[1;33m\u001b[0m\u001b[1;33m\u001b[0m\u001b[0m\n\u001b[0;32m      9\u001b[0m \u001b[0ms1\u001b[0m \u001b[1;33m=\u001b[0m \u001b[0mStudent\u001b[0m\u001b[1;33m(\u001b[0m\u001b[1;33m)\u001b[0m\u001b[1;33m\u001b[0m\u001b[1;33m\u001b[0m\u001b[0m\n\u001b[1;32m---> 10\u001b[1;33m \u001b[0ms1\u001b[0m\u001b[1;33m.\u001b[0m\u001b[0mprint_age\u001b[0m\u001b[1;33m(\u001b[0m\u001b[1;33m)\u001b[0m\u001b[1;33m\u001b[0m\u001b[1;33m\u001b[0m\u001b[0m\n\u001b[0m",
      "\u001b[1;32m~\\AppData\\Local\\Temp/ipykernel_15308/4180181577.py\u001b[0m in \u001b[0;36mprint_age\u001b[1;34m(self)\u001b[0m\n\u001b[0;32m      4\u001b[0m         \u001b[0mself\u001b[0m\u001b[1;33m.\u001b[0m\u001b[0mage\u001b[0m \u001b[1;33m=\u001b[0m \u001b[1;36m60\u001b[0m\u001b[1;33m\u001b[0m\u001b[1;33m\u001b[0m\u001b[0m\n\u001b[0;32m      5\u001b[0m     \u001b[1;32mdef\u001b[0m \u001b[0mprint_age\u001b[0m\u001b[1;33m(\u001b[0m\u001b[0mself\u001b[0m\u001b[1;33m)\u001b[0m\u001b[1;33m:\u001b[0m\u001b[1;33m\u001b[0m\u001b[1;33m\u001b[0m\u001b[0m\n\u001b[1;32m----> 6\u001b[1;33m         \u001b[0mprint\u001b[0m\u001b[1;33m(\u001b[0m\u001b[0mself\u001b[0m\u001b[1;33m.\u001b[0m\u001b[0mage\u001b[0m\u001b[1;33m)\u001b[0m\u001b[1;33m\u001b[0m\u001b[1;33m\u001b[0m\u001b[0m\n\u001b[0m\u001b[0;32m      7\u001b[0m \u001b[0ms\u001b[0m \u001b[1;33m=\u001b[0m \u001b[0mStudent\u001b[0m\u001b[1;33m(\u001b[0m\u001b[1;33m)\u001b[0m\u001b[1;33m\u001b[0m\u001b[1;33m\u001b[0m\u001b[0m\n\u001b[0;32m      8\u001b[0m \u001b[0ms\u001b[0m\u001b[1;33m.\u001b[0m\u001b[0mstore_details\u001b[0m\u001b[1;33m(\u001b[0m\u001b[1;33m)\u001b[0m\u001b[1;33m\u001b[0m\u001b[1;33m\u001b[0m\u001b[0m\n",
      "\u001b[1;31mAttributeError\u001b[0m: 'Student' object has no attribute 'age'"
     ]
    }
   ],
   "source": [
    "class Student:\n",
    "\n",
    "    def __init__(self,name,age):\n",
    "        self.name = 'Rohan'\n",
    "        self.age = 20\n",
    "\n",
    "    def print_student_details():\n",
    "        print(self.name, end= ' ')\n",
    "        print(self.age)\n",
    "\n",
    "\n",
    "s = Student()\n",
    "s.print_student_details()"
   ]
  }
 ],
 "metadata": {
  "kernelspec": {
   "display_name": "Python 3.10.0 64-bit",
   "language": "python",
   "name": "python3"
  },
  "language_info": {
   "codemirror_mode": {
    "name": "ipython",
    "version": 3
   },
   "file_extension": ".py",
   "mimetype": "text/x-python",
   "name": "python",
   "nbconvert_exporter": "python",
   "pygments_lexer": "ipython3",
   "version": "3.10.0"
  },
  "orig_nbformat": 4,
  "vscode": {
   "interpreter": {
    "hash": "6b6bb9b73e77c7418ba4b370821ce9827db27c53033f41f9ef34f697bab06e5b"
   }
  }
 },
 "nbformat": 4,
 "nbformat_minor": 2
}
