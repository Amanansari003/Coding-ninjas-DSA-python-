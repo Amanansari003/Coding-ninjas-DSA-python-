{
 "cells": [
  {
   "cell_type": "code",
   "execution_count": null,
   "id": "ec347449",
   "metadata": {},
   "outputs": [],
   "source": [
    "        Last Index Of Number : Question \n",
    "\n",
    "Given an array of length N and an integer x, you need to find and return the last index of integer x present in the array. Return -1 if it is not present in the array.\n",
    "Last index means - if x is present multiple times in the array, return the index at which x comes last in the array.\n",
    "You should start traversing your array from 0, not from (N - 1).\n",
    "Do this recursively. Indexing in the array starts from 0.\n",
    "Input Format :\n",
    "Line 1 : An Integer N i.e. size of array\n",
    "Line 2 : N integers which are elements of the array, separated by spaces\n",
    "Line 3 : Integer x\n",
    "Output Format :\n",
    "last index or -1\n",
    "Constraints :\n",
    "1 <= N <= 10^3\n",
    "Sample Input :\n",
    "4\n",
    "9 8 10 8\n",
    "8\n",
    "Sample Output :\n",
    "3"
   ]
  },
  {
   "cell_type": "code",
   "execution_count": null,
   "id": "0284ee34",
   "metadata": {},
   "outputs": [],
   "source": [
    "## Read input as specified in the question.\n",
    "## Print output as specified in the question.\n",
    "def chk(arr,ele,n,si) :\n",
    "    if n == 0 :\n",
    "        return -1 \n",
    "    smallInput = chk(arr,ele,n-1,si+1)\n",
    "    if smallInput != -1 :\n",
    "        return smallInput\n",
    "    else :\n",
    "        if arr[si] == ele :\n",
    "            return si\n",
    "        else :\n",
    "            return -1 \n",
    "n = int( input())\n",
    "arr = [int(i) for i in input().split()]\n",
    "ele = int(input())\n",
    "value = chk(arr,ele,n,0)\n",
    "if value == -1 :\n",
    "    print(-1)\n",
    "else :\n",
    "    print(value)  "
   ]
  }
 ],
 "metadata": {
  "kernelspec": {
   "display_name": "Python 3 (ipykernel)",
   "language": "python",
   "name": "python3"
  },
  "language_info": {
   "codemirror_mode": {
    "name": "ipython",
    "version": 3
   },
   "file_extension": ".py",
   "mimetype": "text/x-python",
   "name": "python",
   "nbconvert_exporter": "python",
   "pygments_lexer": "ipython3",
   "version": "3.10.0"
  }
 },
 "nbformat": 4,
 "nbformat_minor": 5
}
