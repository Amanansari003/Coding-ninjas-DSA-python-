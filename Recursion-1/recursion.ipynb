{
 "cells": [
  {
   "cell_type": "markdown",
   "metadata": {},
   "source": [
    "recursion ( factorial function )"
   ]
  },
  {
   "cell_type": "code",
   "execution_count": 1,
   "metadata": {},
   "outputs": [
    {
     "name": "stdout",
     "output_type": "stream",
     "text": [
      "720\n"
     ]
    }
   ],
   "source": [
    "def fac (n) :\n",
    "    if n == 0 :\n",
    "        return 1 \n",
    "    elif n == 1 :\n",
    "        return 1\n",
    "    return n*fac(n-1)\n",
    "n = int( input())\n",
    "print(fac(n))"
   ]
  },
  {
   "cell_type": "markdown",
   "metadata": {},
   "source": [
    "sum of the natural number "
   ]
  },
  {
   "cell_type": "code",
   "execution_count": 20,
   "metadata": {},
   "outputs": [
    {
     "name": "stdout",
     "output_type": "stream",
     "text": [
      "15\n",
      "120\n"
     ]
    }
   ],
   "source": [
    "def sum_n(n):\n",
    "    if n == 0 :\n",
    "        return 0 \n",
    "    return n + sum_n(n-1)\n",
    "\n",
    "n = int(input())\n",
    "\n",
    "print(sum_n(n))\n",
    "print(fac(n))\n"
   ]
  },
  {
   "cell_type": "markdown",
   "metadata": {},
   "source": [
    "n natural number from 1 to n "
   ]
  },
  {
   "cell_type": "code",
   "execution_count": 11,
   "metadata": {},
   "outputs": [
    {
     "name": "stdout",
     "output_type": "stream",
     "text": [
      "1\n",
      "2\n",
      "3\n",
      "4\n",
      "5\n"
     ]
    }
   ],
   "source": [
    "def print_1_to_n(n):\n",
    "    if n == 0 :\n",
    "        return \n",
    "    print_1_to_n(n-1)\n",
    "    print(n)\n",
    "    return\n",
    "n = int( input())\n",
    "print_1_to_n(n)"
   ]
  },
  {
   "cell_type": "code",
   "execution_count": null,
   "metadata": {},
   "outputs": [],
   "source": [
    "def print_1_to_n(n):\n",
    "    if n == 0 :\n",
    "        return \n",
    "    print(n)\n",
    "    print_1_to_n(n-1)\n",
    "n = int( input())\n",
    "print_1_to_n(n)"
   ]
  },
  {
   "cell_type": "markdown",
   "metadata": {},
   "source": [
    "from n to 1 "
   ]
  },
  {
   "cell_type": "markdown",
   "metadata": {},
   "source": [
    "power recursive function "
   ]
  },
  {
   "cell_type": "code",
   "execution_count": 10,
   "metadata": {},
   "outputs": [
    {
     "name": "stdout",
     "output_type": "stream",
     "text": [
      "81\n"
     ]
    }
   ],
   "source": [
    "def po(a,b):\n",
    "    if b == 0 :\n",
    "        return 1\n",
    "    else :\n",
    "        return a * po(a,b-1)\n",
    "\t\n",
    "\n",
    "a, b = input().split()\n",
    "a = int(a)\n",
    "b = int(b)\n",
    "print(po(a,b))"
   ]
  },
  {
   "cell_type": "markdown",
   "metadata": {},
   "source": [
    "checking list sorted or not \n"
   ]
  },
  {
   "cell_type": "code",
   "execution_count": 13,
   "metadata": {},
   "outputs": [
    {
     "name": "stdout",
     "output_type": "stream",
     "text": [
      "sorted\n"
     ]
    }
   ],
   "source": [
    "def sor (a):\n",
    "    l = len(a)\n",
    "    if l == 0 or l == 1 :\n",
    "        return True\n",
    "    if a[0] > a[1]:\n",
    "        return False\n",
    "    b = a[1:] \n",
    "    isSorted = sor(b)\n",
    "    return isSorted\n",
    "\n",
    "a = [int(i) for i in input().split()[:6]]\n",
    "value = sor(a)\n",
    "if value :\n",
    "    print('sorted')\n",
    "else :\n",
    "    print('not sorted')"
   ]
  },
  {
   "cell_type": "markdown",
   "metadata": {},
   "source": [
    "alternate aproch without making a list many time that is B or b"
   ]
  },
  {
   "cell_type": "code",
   "execution_count": 18,
   "metadata": {},
   "outputs": [
    {
     "name": "stdout",
     "output_type": "stream",
     "text": [
      "not sorted\n"
     ]
    }
   ],
   "source": [
    "def sor (a,si):\n",
    "    l = len(a)\n",
    "    if si == l-1 or si == l :\n",
    "        return True\n",
    "    if a[si] > a[si+1]:   # comparing the starting index \n",
    "        return False\n",
    "    return sor(a,si+1)    # increasing the starting index with 1 in every call and calling the recursie funcction \n",
    "\n",
    "a = [int(i) for i in input().split()[:6]]\n",
    "value = sor(a,0)     # start index of the array \n",
    "if value :\n",
    "    print('sorted')\n",
    "else :\n",
    "    print('not sorted')"
   ]
  },
  {
   "cell_type": "markdown",
   "metadata": {},
   "source": [
    "sum of array using recursion \n"
   ]
  },
  {
   "cell_type": "code",
   "execution_count": 2,
   "metadata": {},
   "outputs": [
    {
     "name": "stdout",
     "output_type": "stream",
     "text": [
      "6\n"
     ]
    }
   ],
   "source": [
    "def sumArray( arr):\n",
    "    if len(arr) == 1 :\n",
    "        return arr[0]\n",
    "    else :\n",
    "        return arr[0] + sumArray(arr[1:])\n",
    "\n",
    "n = int( input())\n",
    "arr = [ int(i) for i in input().split()]\n",
    "print(sumArray(arr))"
   ]
  },
  {
   "cell_type": "markdown",
   "metadata": {},
   "source": [
    "searching element into the array \n"
   ]
  },
  {
   "cell_type": "code",
   "execution_count": 9,
   "metadata": {},
   "outputs": [
    {
     "name": "stdout",
     "output_type": "stream",
     "text": [
      "not present into the list\n"
     ]
    }
   ],
   "source": [
    "def ser( arr, ele) :\n",
    "    if len(arr) == 1 and ele == arr[0] :\n",
    "        return True \n",
    "    elif len (arr) == 0 :\n",
    "        return False \n",
    "    if ele == arr[0] :\n",
    "        return True \n",
    "    return ser(arr[1:],ele)\n",
    "\n",
    "n = int( input())\n",
    "arr = [ int(i) for i in input().split()]\n",
    "b = int(input())\n",
    "value = ser(arr,b)\n",
    "if value :\n",
    "    print(\"present into the list\")\n",
    "else :\n",
    "    print('not present into the list')"
   ]
  },
  {
   "cell_type": "markdown",
   "metadata": {},
   "source": [
    "alternate method \n"
   ]
  },
  {
   "cell_type": "code",
   "execution_count": 14,
   "metadata": {},
   "outputs": [
    {
     "name": "stdout",
     "output_type": "stream",
     "text": [
      "not present into the list\n"
     ]
    }
   ],
   "source": [
    "def ser( arr, ele,n) :\n",
    "    if n == 1 and ele == arr[0] :\n",
    "        return True \n",
    "    elif len (arr) == 0 :\n",
    "        return False \n",
    "    if ele == arr[0] :\n",
    "        return True \n",
    "    return ser(arr[1:],ele,n-1)\n",
    "\n",
    "n = int( input())\n",
    "arr = [ int(i) for i in input().split()]\n",
    "b = int(input())\n",
    "value = ser(arr,b,n)\n",
    "if value :\n",
    "    print(\"present into the list\")\n",
    "else :\n",
    "    print('not present into the list')"
   ]
  },
  {
   "cell_type": "markdown",
   "metadata": {},
   "source": [
    "first occureence of the element in the array "
   ]
  },
  {
   "cell_type": "code",
   "execution_count": 28,
   "metadata": {},
   "outputs": [
    {
     "name": "stdout",
     "output_type": "stream",
     "text": [
      "2\n"
     ]
    }
   ],
   "source": [
    "def serInd(arr, n, ele, si):\n",
    "    if n == 0 :\n",
    "        return -1\n",
    "    elif arr[si] == ele :\n",
    "        return si \n",
    "    return serInd(arr,n-1,ele,si+1)\n",
    "\n",
    "n = int( input())\n",
    "arr = [int(i) for i in input().split()]\n",
    "ele = int( input())\n",
    "value = serInd(arr,n,ele,0)\n",
    "if value == -1 :\n",
    "    print(-1)\n",
    "else :\n",
    "    print(value)"
   ]
  },
  {
   "cell_type": "markdown",
   "metadata": {},
   "source": [
    "alternater aproch "
   ]
  },
  {
   "cell_type": "code",
   "execution_count": 33,
   "metadata": {},
   "outputs": [
    {
     "name": "stdout",
     "output_type": "stream",
     "text": [
      "4\n"
     ]
    }
   ],
   "source": [
    "def serInd(arr,ele,n) :\n",
    "    if n == 0  :\n",
    "        return -1 \n",
    "    elif arr[0] == ele :\n",
    "        return 0\n",
    "    output = serInd(arr[1:],ele,n-1)\n",
    "\n",
    "    if output == -1 :\n",
    "        return -1\n",
    "    else:\n",
    "        return output+1\n",
    "n = int(input())\n",
    "\n",
    "arr = [int(i)  for i in input().split()]\n",
    "ele = int( input())\n",
    "\n",
    "print(serInd(arr,ele,n))\n",
    "\n",
    "\n"
   ]
  },
  {
   "cell_type": "markdown",
   "metadata": {},
   "source": [
    "last occurance of the element in the array"
   ]
  },
  {
   "cell_type": "code",
   "execution_count": 7,
   "metadata": {},
   "outputs": [
    {
     "name": "stdout",
     "output_type": "stream",
     "text": [
      "(1, (2, 2))\n"
     ]
    }
   ],
   "source": [
    "def chk(arr,ele,n,si) :\n",
    "    if n == 0 :\n",
    "        return -1 \n",
    "    # smallInput = chk(arr,ele,n-1,si+1)\n",
    "    # print(smallInput)\n",
    "    # print(chk(arr,ele,n-1,si+1))\n",
    "    if chk(arr,ele,n-1,si+1)!= -1 :\n",
    "        return chk(arr,ele,n-1,si+1)\n",
    "    else :\n",
    "        if arr[si] == ele :\n",
    "            return si\n",
    "        else :\n",
    "            return -1 \n",
    "n = int( input())\n",
    "arr = [int(i) for i in input().split()]\n",
    "ele = int(input())\n",
    "print(chk(arr,ele,n,0))\n",
    "\n"
   ]
  }
 ],
 "metadata": {
  "kernelspec": {
   "display_name": "Python 3.10.0 64-bit",
   "language": "python",
   "name": "python3"
  },
  "language_info": {
   "codemirror_mode": {
    "name": "ipython",
    "version": 3
   },
   "file_extension": ".py",
   "mimetype": "text/x-python",
   "name": "python",
   "nbconvert_exporter": "python",
   "pygments_lexer": "ipython3",
   "version": "3.10.0"
  },
  "orig_nbformat": 4,
  "vscode": {
   "interpreter": {
    "hash": "6b6bb9b73e77c7418ba4b370821ce9827db27c53033f41f9ef34f697bab06e5b"
   }
  }
 },
 "nbformat": 4,
 "nbformat_minor": 2
}
