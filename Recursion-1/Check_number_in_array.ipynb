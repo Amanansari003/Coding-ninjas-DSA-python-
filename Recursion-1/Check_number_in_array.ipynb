{
 "cells": [
  {
   "cell_type": "code",
   "execution_count": null,
   "id": "74795583",
   "metadata": {},
   "outputs": [],
   "source": [
    "Check Number in Array :\n",
    "    \n",
    "    \n",
    "Given an array of length N and an integer x, you need to find if x is present in the array or not. Return true or false.\n",
    "Do this recursively.\n",
    "Input Format :\n",
    "Line 1 : An Integer N i.e. size of array\n",
    "Line 2 : N integers which are elements of the array, separated by spaces\n",
    "Line 3 : Integer x\n",
    "Output Format :\n",
    "'true' or 'false'\n",
    "Constraints :\n",
    "1 <= N <= 10^3\n",
    "Sample Input 1 :\n",
    "3\n",
    "9 8 10\n",
    "8\n",
    "Sample Output 1 :\n",
    "true"
   ]
  },
  {
   "cell_type": "code",
   "execution_count": 1,
   "id": "b11a0260",
   "metadata": {},
   "outputs": [
    {
     "name": "stdout",
     "output_type": "stream",
     "text": [
      "3\n",
      "9 8 10\n",
      "8\n",
      "true\n"
     ]
    }
   ],
   "source": [
    "def ser( arr, ele) :\n",
    "    if len(arr) == 1 and ele == arr[0] :\n",
    "        return True \n",
    "    elif len (arr) == 0 :\n",
    "        return False \n",
    "    if ele == arr[0] :\n",
    "        return True \n",
    "    return ser(arr[1:],ele)\n",
    "\n",
    "n = int( input())\n",
    "arr = [ int(i) for i in input().split()]\n",
    "b = int(input())\n",
    "value = ser(arr,b)\n",
    "if value :\n",
    "    print(\"true\")\n",
    "else :\n",
    "    print('false')\n"
   ]
  }
 ],
 "metadata": {
  "kernelspec": {
   "display_name": "Python 3 (ipykernel)",
   "language": "python",
   "name": "python3"
  },
  "language_info": {
   "codemirror_mode": {
    "name": "ipython",
    "version": 3
   },
   "file_extension": ".py",
   "mimetype": "text/x-python",
   "name": "python",
   "nbconvert_exporter": "python",
   "pygments_lexer": "ipython3",
   "version": "3.10.0"
  }
 },
 "nbformat": 4,
 "nbformat_minor": 5
}
